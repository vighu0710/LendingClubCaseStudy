{
 "cells": [
  {
   "cell_type": "code",
   "execution_count": 42,
   "id": "d98c6a85",
   "metadata": {},
   "outputs": [],
   "source": [
    "import pandas as pd\n",
    "import seaborn as sns"
   ]
  },
  {
   "cell_type": "code",
   "execution_count": 43,
   "id": "2ae3a067",
   "metadata": {},
   "outputs": [],
   "source": [
    "DataDict = pd.read_excel(\"Data_Dictionary.xlsx\")"
   ]
  },
  {
   "cell_type": "code",
   "execution_count": 44,
   "id": "b02c25cc",
   "metadata": {},
   "outputs": [],
   "source": [
    "LoanDf = pd.read_csv(\"loan.csv\", low_memory=False)"
   ]
  },
  {
   "cell_type": "code",
   "execution_count": 45,
   "id": "6fe80570",
   "metadata": {},
   "outputs": [
    {
     "data": {
      "text/plain": [
       "(39717, 111)"
      ]
     },
     "execution_count": 45,
     "metadata": {},
     "output_type": "execute_result"
    }
   ],
   "source": [
    "LoanDf.shape"
   ]
  },
  {
   "cell_type": "code",
   "execution_count": 46,
   "id": "02bfec63",
   "metadata": {},
   "outputs": [
    {
     "name": "stdout",
     "output_type": "stream",
     "text": [
      "<class 'pandas.core.frame.DataFrame'>\n",
      "RangeIndex: 39717 entries, 0 to 39716\n",
      "Data columns (total 111 columns):\n",
      " #    Column                          Non-Null Count  Dtype  \n",
      "---   ------                          --------------  -----  \n",
      " 0    id                              39717 non-null  int64  \n",
      " 1    member_id                       39717 non-null  int64  \n",
      " 2    loan_amnt                       39717 non-null  int64  \n",
      " 3    funded_amnt                     39717 non-null  int64  \n",
      " 4    funded_amnt_inv                 39717 non-null  float64\n",
      " 5    term                            39717 non-null  object \n",
      " 6    int_rate                        39717 non-null  object \n",
      " 7    installment                     39717 non-null  float64\n",
      " 8    grade                           39717 non-null  object \n",
      " 9    sub_grade                       39717 non-null  object \n",
      " 10   emp_title                       37258 non-null  object \n",
      " 11   emp_length                      38642 non-null  object \n",
      " 12   home_ownership                  39717 non-null  object \n",
      " 13   annual_inc                      39717 non-null  float64\n",
      " 14   verification_status             39717 non-null  object \n",
      " 15   issue_d                         39717 non-null  object \n",
      " 16   loan_status                     39717 non-null  object \n",
      " 17   pymnt_plan                      39717 non-null  object \n",
      " 18   url                             39717 non-null  object \n",
      " 19   desc                            26777 non-null  object \n",
      " 20   purpose                         39717 non-null  object \n",
      " 21   title                           39706 non-null  object \n",
      " 22   zip_code                        39717 non-null  object \n",
      " 23   addr_state                      39717 non-null  object \n",
      " 24   dti                             39717 non-null  float64\n",
      " 25   delinq_2yrs                     39717 non-null  int64  \n",
      " 26   earliest_cr_line                39717 non-null  object \n",
      " 27   inq_last_6mths                  39717 non-null  int64  \n",
      " 28   mths_since_last_delinq          14035 non-null  float64\n",
      " 29   mths_since_last_record          2786 non-null   float64\n",
      " 30   open_acc                        39717 non-null  int64  \n",
      " 31   pub_rec                         39717 non-null  int64  \n",
      " 32   revol_bal                       39717 non-null  int64  \n",
      " 33   revol_util                      39667 non-null  object \n",
      " 34   total_acc                       39717 non-null  int64  \n",
      " 35   initial_list_status             39717 non-null  object \n",
      " 36   out_prncp                       39717 non-null  float64\n",
      " 37   out_prncp_inv                   39717 non-null  float64\n",
      " 38   total_pymnt                     39717 non-null  float64\n",
      " 39   total_pymnt_inv                 39717 non-null  float64\n",
      " 40   total_rec_prncp                 39717 non-null  float64\n",
      " 41   total_rec_int                   39717 non-null  float64\n",
      " 42   total_rec_late_fee              39717 non-null  float64\n",
      " 43   recoveries                      39717 non-null  float64\n",
      " 44   collection_recovery_fee         39717 non-null  float64\n",
      " 45   last_pymnt_d                    39646 non-null  object \n",
      " 46   last_pymnt_amnt                 39717 non-null  float64\n",
      " 47   next_pymnt_d                    1140 non-null   object \n",
      " 48   last_credit_pull_d              39715 non-null  object \n",
      " 49   collections_12_mths_ex_med      39661 non-null  float64\n",
      " 50   mths_since_last_major_derog     0 non-null      float64\n",
      " 51   policy_code                     39717 non-null  int64  \n",
      " 52   application_type                39717 non-null  object \n",
      " 53   annual_inc_joint                0 non-null      float64\n",
      " 54   dti_joint                       0 non-null      float64\n",
      " 55   verification_status_joint       0 non-null      float64\n",
      " 56   acc_now_delinq                  39717 non-null  int64  \n",
      " 57   tot_coll_amt                    0 non-null      float64\n",
      " 58   tot_cur_bal                     0 non-null      float64\n",
      " 59   open_acc_6m                     0 non-null      float64\n",
      " 60   open_il_6m                      0 non-null      float64\n",
      " 61   open_il_12m                     0 non-null      float64\n",
      " 62   open_il_24m                     0 non-null      float64\n",
      " 63   mths_since_rcnt_il              0 non-null      float64\n",
      " 64   total_bal_il                    0 non-null      float64\n",
      " 65   il_util                         0 non-null      float64\n",
      " 66   open_rv_12m                     0 non-null      float64\n",
      " 67   open_rv_24m                     0 non-null      float64\n",
      " 68   max_bal_bc                      0 non-null      float64\n",
      " 69   all_util                        0 non-null      float64\n",
      " 70   total_rev_hi_lim                0 non-null      float64\n",
      " 71   inq_fi                          0 non-null      float64\n",
      " 72   total_cu_tl                     0 non-null      float64\n",
      " 73   inq_last_12m                    0 non-null      float64\n",
      " 74   acc_open_past_24mths            0 non-null      float64\n",
      " 75   avg_cur_bal                     0 non-null      float64\n",
      " 76   bc_open_to_buy                  0 non-null      float64\n",
      " 77   bc_util                         0 non-null      float64\n",
      " 78   chargeoff_within_12_mths        39661 non-null  float64\n",
      " 79   delinq_amnt                     39717 non-null  int64  \n",
      " 80   mo_sin_old_il_acct              0 non-null      float64\n",
      " 81   mo_sin_old_rev_tl_op            0 non-null      float64\n",
      " 82   mo_sin_rcnt_rev_tl_op           0 non-null      float64\n",
      " 83   mo_sin_rcnt_tl                  0 non-null      float64\n",
      " 84   mort_acc                        0 non-null      float64\n",
      " 85   mths_since_recent_bc            0 non-null      float64\n",
      " 86   mths_since_recent_bc_dlq        0 non-null      float64\n",
      " 87   mths_since_recent_inq           0 non-null      float64\n",
      " 88   mths_since_recent_revol_delinq  0 non-null      float64\n",
      " 89   num_accts_ever_120_pd           0 non-null      float64\n",
      " 90   num_actv_bc_tl                  0 non-null      float64\n",
      " 91   num_actv_rev_tl                 0 non-null      float64\n",
      " 92   num_bc_sats                     0 non-null      float64\n",
      " 93   num_bc_tl                       0 non-null      float64\n",
      " 94   num_il_tl                       0 non-null      float64\n",
      " 95   num_op_rev_tl                   0 non-null      float64\n",
      " 96   num_rev_accts                   0 non-null      float64\n",
      " 97   num_rev_tl_bal_gt_0             0 non-null      float64\n",
      " 98   num_sats                        0 non-null      float64\n",
      " 99   num_tl_120dpd_2m                0 non-null      float64\n",
      " 100  num_tl_30dpd                    0 non-null      float64\n",
      " 101  num_tl_90g_dpd_24m              0 non-null      float64\n",
      " 102  num_tl_op_past_12m              0 non-null      float64\n",
      " 103  pct_tl_nvr_dlq                  0 non-null      float64\n",
      " 104  percent_bc_gt_75                0 non-null      float64\n",
      " 105  pub_rec_bankruptcies            39020 non-null  float64\n",
      " 106  tax_liens                       39678 non-null  float64\n",
      " 107  tot_hi_cred_lim                 0 non-null      float64\n",
      " 108  total_bal_ex_mort               0 non-null      float64\n",
      " 109  total_bc_limit                  0 non-null      float64\n",
      " 110  total_il_high_credit_limit      0 non-null      float64\n",
      "dtypes: float64(74), int64(13), object(24)\n",
      "memory usage: 33.6+ MB\n"
     ]
    }
   ],
   "source": [
    "LoanDf.info(verbose=True,show_counts=True)"
   ]
  },
  {
   "cell_type": "markdown",
   "id": "4d34edb9",
   "metadata": {},
   "source": [
    "## Displaying the first few entries"
   ]
  },
  {
   "cell_type": "code",
   "execution_count": 47,
   "id": "369f136d",
   "metadata": {},
   "outputs": [
    {
     "data": {
      "text/html": [
       "<div>\n",
       "<style scoped>\n",
       "    .dataframe tbody tr th:only-of-type {\n",
       "        vertical-align: middle;\n",
       "    }\n",
       "\n",
       "    .dataframe tbody tr th {\n",
       "        vertical-align: top;\n",
       "    }\n",
       "\n",
       "    .dataframe thead th {\n",
       "        text-align: right;\n",
       "    }\n",
       "</style>\n",
       "<table border=\"1\" class=\"dataframe\">\n",
       "  <thead>\n",
       "    <tr style=\"text-align: right;\">\n",
       "      <th></th>\n",
       "      <th>id</th>\n",
       "      <th>member_id</th>\n",
       "      <th>loan_amnt</th>\n",
       "      <th>funded_amnt</th>\n",
       "      <th>funded_amnt_inv</th>\n",
       "      <th>term</th>\n",
       "      <th>int_rate</th>\n",
       "      <th>installment</th>\n",
       "      <th>grade</th>\n",
       "      <th>sub_grade</th>\n",
       "      <th>...</th>\n",
       "      <th>num_tl_90g_dpd_24m</th>\n",
       "      <th>num_tl_op_past_12m</th>\n",
       "      <th>pct_tl_nvr_dlq</th>\n",
       "      <th>percent_bc_gt_75</th>\n",
       "      <th>pub_rec_bankruptcies</th>\n",
       "      <th>tax_liens</th>\n",
       "      <th>tot_hi_cred_lim</th>\n",
       "      <th>total_bal_ex_mort</th>\n",
       "      <th>total_bc_limit</th>\n",
       "      <th>total_il_high_credit_limit</th>\n",
       "    </tr>\n",
       "  </thead>\n",
       "  <tbody>\n",
       "    <tr>\n",
       "      <th>0</th>\n",
       "      <td>1077501</td>\n",
       "      <td>1296599</td>\n",
       "      <td>5000</td>\n",
       "      <td>5000</td>\n",
       "      <td>4975.0</td>\n",
       "      <td>36 months</td>\n",
       "      <td>10.65%</td>\n",
       "      <td>162.87</td>\n",
       "      <td>B</td>\n",
       "      <td>B2</td>\n",
       "      <td>...</td>\n",
       "      <td>NaN</td>\n",
       "      <td>NaN</td>\n",
       "      <td>NaN</td>\n",
       "      <td>NaN</td>\n",
       "      <td>0.0</td>\n",
       "      <td>0.0</td>\n",
       "      <td>NaN</td>\n",
       "      <td>NaN</td>\n",
       "      <td>NaN</td>\n",
       "      <td>NaN</td>\n",
       "    </tr>\n",
       "    <tr>\n",
       "      <th>1</th>\n",
       "      <td>1077430</td>\n",
       "      <td>1314167</td>\n",
       "      <td>2500</td>\n",
       "      <td>2500</td>\n",
       "      <td>2500.0</td>\n",
       "      <td>60 months</td>\n",
       "      <td>15.27%</td>\n",
       "      <td>59.83</td>\n",
       "      <td>C</td>\n",
       "      <td>C4</td>\n",
       "      <td>...</td>\n",
       "      <td>NaN</td>\n",
       "      <td>NaN</td>\n",
       "      <td>NaN</td>\n",
       "      <td>NaN</td>\n",
       "      <td>0.0</td>\n",
       "      <td>0.0</td>\n",
       "      <td>NaN</td>\n",
       "      <td>NaN</td>\n",
       "      <td>NaN</td>\n",
       "      <td>NaN</td>\n",
       "    </tr>\n",
       "    <tr>\n",
       "      <th>2</th>\n",
       "      <td>1077175</td>\n",
       "      <td>1313524</td>\n",
       "      <td>2400</td>\n",
       "      <td>2400</td>\n",
       "      <td>2400.0</td>\n",
       "      <td>36 months</td>\n",
       "      <td>15.96%</td>\n",
       "      <td>84.33</td>\n",
       "      <td>C</td>\n",
       "      <td>C5</td>\n",
       "      <td>...</td>\n",
       "      <td>NaN</td>\n",
       "      <td>NaN</td>\n",
       "      <td>NaN</td>\n",
       "      <td>NaN</td>\n",
       "      <td>0.0</td>\n",
       "      <td>0.0</td>\n",
       "      <td>NaN</td>\n",
       "      <td>NaN</td>\n",
       "      <td>NaN</td>\n",
       "      <td>NaN</td>\n",
       "    </tr>\n",
       "    <tr>\n",
       "      <th>3</th>\n",
       "      <td>1076863</td>\n",
       "      <td>1277178</td>\n",
       "      <td>10000</td>\n",
       "      <td>10000</td>\n",
       "      <td>10000.0</td>\n",
       "      <td>36 months</td>\n",
       "      <td>13.49%</td>\n",
       "      <td>339.31</td>\n",
       "      <td>C</td>\n",
       "      <td>C1</td>\n",
       "      <td>...</td>\n",
       "      <td>NaN</td>\n",
       "      <td>NaN</td>\n",
       "      <td>NaN</td>\n",
       "      <td>NaN</td>\n",
       "      <td>0.0</td>\n",
       "      <td>0.0</td>\n",
       "      <td>NaN</td>\n",
       "      <td>NaN</td>\n",
       "      <td>NaN</td>\n",
       "      <td>NaN</td>\n",
       "    </tr>\n",
       "    <tr>\n",
       "      <th>4</th>\n",
       "      <td>1075358</td>\n",
       "      <td>1311748</td>\n",
       "      <td>3000</td>\n",
       "      <td>3000</td>\n",
       "      <td>3000.0</td>\n",
       "      <td>60 months</td>\n",
       "      <td>12.69%</td>\n",
       "      <td>67.79</td>\n",
       "      <td>B</td>\n",
       "      <td>B5</td>\n",
       "      <td>...</td>\n",
       "      <td>NaN</td>\n",
       "      <td>NaN</td>\n",
       "      <td>NaN</td>\n",
       "      <td>NaN</td>\n",
       "      <td>0.0</td>\n",
       "      <td>0.0</td>\n",
       "      <td>NaN</td>\n",
       "      <td>NaN</td>\n",
       "      <td>NaN</td>\n",
       "      <td>NaN</td>\n",
       "    </tr>\n",
       "  </tbody>\n",
       "</table>\n",
       "<p>5 rows × 111 columns</p>\n",
       "</div>"
      ],
      "text/plain": [
       "        id  member_id  loan_amnt  funded_amnt  funded_amnt_inv        term  \\\n",
       "0  1077501    1296599       5000         5000           4975.0   36 months   \n",
       "1  1077430    1314167       2500         2500           2500.0   60 months   \n",
       "2  1077175    1313524       2400         2400           2400.0   36 months   \n",
       "3  1076863    1277178      10000        10000          10000.0   36 months   \n",
       "4  1075358    1311748       3000         3000           3000.0   60 months   \n",
       "\n",
       "  int_rate  installment grade sub_grade  ... num_tl_90g_dpd_24m  \\\n",
       "0   10.65%       162.87     B        B2  ...                NaN   \n",
       "1   15.27%        59.83     C        C4  ...                NaN   \n",
       "2   15.96%        84.33     C        C5  ...                NaN   \n",
       "3   13.49%       339.31     C        C1  ...                NaN   \n",
       "4   12.69%        67.79     B        B5  ...                NaN   \n",
       "\n",
       "  num_tl_op_past_12m pct_tl_nvr_dlq  percent_bc_gt_75 pub_rec_bankruptcies  \\\n",
       "0                NaN            NaN               NaN                  0.0   \n",
       "1                NaN            NaN               NaN                  0.0   \n",
       "2                NaN            NaN               NaN                  0.0   \n",
       "3                NaN            NaN               NaN                  0.0   \n",
       "4                NaN            NaN               NaN                  0.0   \n",
       "\n",
       "  tax_liens tot_hi_cred_lim total_bal_ex_mort total_bc_limit  \\\n",
       "0       0.0             NaN               NaN            NaN   \n",
       "1       0.0             NaN               NaN            NaN   \n",
       "2       0.0             NaN               NaN            NaN   \n",
       "3       0.0             NaN               NaN            NaN   \n",
       "4       0.0             NaN               NaN            NaN   \n",
       "\n",
       "  total_il_high_credit_limit  \n",
       "0                        NaN  \n",
       "1                        NaN  \n",
       "2                        NaN  \n",
       "3                        NaN  \n",
       "4                        NaN  \n",
       "\n",
       "[5 rows x 111 columns]"
      ]
     },
     "execution_count": 47,
     "metadata": {},
     "output_type": "execute_result"
    }
   ],
   "source": [
    "LoanDf.head()"
   ]
  },
  {
   "cell_type": "markdown",
   "id": "f5dd20a9",
   "metadata": {},
   "source": [
    "## Droping columns with null values:"
   ]
  },
  {
   "cell_type": "markdown",
   "id": "e117a6cf",
   "metadata": {},
   "source": [
    "### List of columns with all null values"
   ]
  },
  {
   "cell_type": "code",
   "execution_count": 48,
   "id": "4fe03d9c",
   "metadata": {},
   "outputs": [
    {
     "data": {
      "text/plain": [
       "mths_since_last_major_derog       True\n",
       "annual_inc_joint                  True\n",
       "dti_joint                         True\n",
       "verification_status_joint         True\n",
       "tot_coll_amt                      True\n",
       "tot_cur_bal                       True\n",
       "open_acc_6m                       True\n",
       "open_il_6m                        True\n",
       "open_il_12m                       True\n",
       "open_il_24m                       True\n",
       "mths_since_rcnt_il                True\n",
       "total_bal_il                      True\n",
       "il_util                           True\n",
       "open_rv_12m                       True\n",
       "open_rv_24m                       True\n",
       "max_bal_bc                        True\n",
       "all_util                          True\n",
       "total_rev_hi_lim                  True\n",
       "inq_fi                            True\n",
       "total_cu_tl                       True\n",
       "inq_last_12m                      True\n",
       "acc_open_past_24mths              True\n",
       "avg_cur_bal                       True\n",
       "bc_open_to_buy                    True\n",
       "bc_util                           True\n",
       "mo_sin_old_il_acct                True\n",
       "mo_sin_old_rev_tl_op              True\n",
       "mo_sin_rcnt_rev_tl_op             True\n",
       "mo_sin_rcnt_tl                    True\n",
       "mort_acc                          True\n",
       "mths_since_recent_bc              True\n",
       "mths_since_recent_bc_dlq          True\n",
       "mths_since_recent_inq             True\n",
       "mths_since_recent_revol_delinq    True\n",
       "num_accts_ever_120_pd             True\n",
       "num_actv_bc_tl                    True\n",
       "num_actv_rev_tl                   True\n",
       "num_bc_sats                       True\n",
       "num_bc_tl                         True\n",
       "num_il_tl                         True\n",
       "num_op_rev_tl                     True\n",
       "num_rev_accts                     True\n",
       "num_rev_tl_bal_gt_0               True\n",
       "num_sats                          True\n",
       "num_tl_120dpd_2m                  True\n",
       "num_tl_30dpd                      True\n",
       "num_tl_90g_dpd_24m                True\n",
       "num_tl_op_past_12m                True\n",
       "pct_tl_nvr_dlq                    True\n",
       "percent_bc_gt_75                  True\n",
       "tot_hi_cred_lim                   True\n",
       "total_bal_ex_mort                 True\n",
       "total_bc_limit                    True\n",
       "total_il_high_credit_limit        True\n",
       "dtype: bool"
      ]
     },
     "execution_count": 48,
     "metadata": {},
     "output_type": "execute_result"
    }
   ],
   "source": [
    "df = LoanDf.isna().sum()==LoanDf.shape[0]\n",
    "df[((LoanDf.isna().sum()==LoanDf.shape[0])==True)]"
   ]
  },
  {
   "cell_type": "markdown",
   "id": "0e6f306a",
   "metadata": {},
   "source": [
    "## Dropping all those columns since we don't have any values in it"
   ]
  },
  {
   "cell_type": "code",
   "execution_count": 49,
   "id": "6821cdcc",
   "metadata": {},
   "outputs": [],
   "source": [
    "LoanDf.drop(df[((LoanDf.isna().sum()==LoanDf.shape[0])==True)].index,axis=1,inplace=True)"
   ]
  },
  {
   "cell_type": "markdown",
   "id": "f59c1419",
   "metadata": {},
   "source": [
    "## Find the percentage of null values in each column"
   ]
  },
  {
   "cell_type": "code",
   "execution_count": 50,
   "id": "6df81bc0",
   "metadata": {},
   "outputs": [
    {
     "data": {
      "text/plain": [
       "id                             0.000000\n",
       "member_id                      0.000000\n",
       "loan_amnt                      0.000000\n",
       "funded_amnt                    0.000000\n",
       "funded_amnt_inv                0.000000\n",
       "term                           0.000000\n",
       "int_rate                       0.000000\n",
       "installment                    0.000000\n",
       "grade                          0.000000\n",
       "sub_grade                      0.000000\n",
       "emp_title                      6.191303\n",
       "emp_length                     2.706650\n",
       "home_ownership                 0.000000\n",
       "annual_inc                     0.000000\n",
       "verification_status            0.000000\n",
       "issue_d                        0.000000\n",
       "loan_status                    0.000000\n",
       "pymnt_plan                     0.000000\n",
       "url                            0.000000\n",
       "desc                          32.580507\n",
       "purpose                        0.000000\n",
       "title                          0.027696\n",
       "zip_code                       0.000000\n",
       "addr_state                     0.000000\n",
       "dti                            0.000000\n",
       "delinq_2yrs                    0.000000\n",
       "earliest_cr_line               0.000000\n",
       "inq_last_6mths                 0.000000\n",
       "mths_since_last_delinq        64.662487\n",
       "mths_since_last_record        92.985372\n",
       "open_acc                       0.000000\n",
       "pub_rec                        0.000000\n",
       "revol_bal                      0.000000\n",
       "revol_util                     0.125891\n",
       "total_acc                      0.000000\n",
       "initial_list_status            0.000000\n",
       "out_prncp                      0.000000\n",
       "out_prncp_inv                  0.000000\n",
       "total_pymnt                    0.000000\n",
       "total_pymnt_inv                0.000000\n",
       "total_rec_prncp                0.000000\n",
       "total_rec_int                  0.000000\n",
       "total_rec_late_fee             0.000000\n",
       "recoveries                     0.000000\n",
       "collection_recovery_fee        0.000000\n",
       "last_pymnt_d                   0.178765\n",
       "last_pymnt_amnt                0.000000\n",
       "next_pymnt_d                  97.129693\n",
       "last_credit_pull_d             0.005036\n",
       "collections_12_mths_ex_med     0.140998\n",
       "policy_code                    0.000000\n",
       "application_type               0.000000\n",
       "acc_now_delinq                 0.000000\n",
       "chargeoff_within_12_mths       0.140998\n",
       "delinq_amnt                    0.000000\n",
       "pub_rec_bankruptcies           1.754916\n",
       "tax_liens                      0.098195\n",
       "dtype: float64"
      ]
     },
     "execution_count": 50,
     "metadata": {},
     "output_type": "execute_result"
    }
   ],
   "source": [
    "(LoanDf.isna().sum()/LoanDf.shape[0]*100)"
   ]
  },
  {
   "cell_type": "markdown",
   "id": "b746577b",
   "metadata": {},
   "source": [
    "## Greater that 50% null values"
   ]
  },
  {
   "cell_type": "code",
   "execution_count": 51,
   "id": "81636ebf",
   "metadata": {},
   "outputs": [
    {
     "data": {
      "text/plain": [
       "mths_since_last_delinq    64.662487\n",
       "mths_since_last_record    92.985372\n",
       "next_pymnt_d              97.129693\n",
       "dtype: float64"
      ]
     },
     "execution_count": 51,
     "metadata": {},
     "output_type": "execute_result"
    }
   ],
   "source": [
    "GTFiftyDf = (LoanDf.isna().sum()/LoanDf.shape[0]*100)[((LoanDf.isna().sum()/LoanDf.shape[0]*100)>50)]\n",
    "GTFiftyDf"
   ]
  },
  {
   "cell_type": "code",
   "execution_count": 52,
   "id": "2bf64383",
   "metadata": {},
   "outputs": [
    {
     "data": {
      "text/html": [
       "<div>\n",
       "<style scoped>\n",
       "    .dataframe tbody tr th:only-of-type {\n",
       "        vertical-align: middle;\n",
       "    }\n",
       "\n",
       "    .dataframe tbody tr th {\n",
       "        vertical-align: top;\n",
       "    }\n",
       "\n",
       "    .dataframe thead th {\n",
       "        text-align: right;\n",
       "    }\n",
       "</style>\n",
       "<table border=\"1\" class=\"dataframe\">\n",
       "  <thead>\n",
       "    <tr style=\"text-align: right;\">\n",
       "      <th></th>\n",
       "      <th>LoanStatNew</th>\n",
       "      <th>Description</th>\n",
       "    </tr>\n",
       "  </thead>\n",
       "  <tbody>\n",
       "    <tr>\n",
       "      <th>50</th>\n",
       "      <td>mths_since_last_delinq</td>\n",
       "      <td>The number of months since the borrower's last...</td>\n",
       "    </tr>\n",
       "    <tr>\n",
       "      <th>52</th>\n",
       "      <td>mths_since_last_record</td>\n",
       "      <td>The number of months since the last public rec...</td>\n",
       "    </tr>\n",
       "    <tr>\n",
       "      <th>58</th>\n",
       "      <td>next_pymnt_d</td>\n",
       "      <td>Next scheduled payment date</td>\n",
       "    </tr>\n",
       "  </tbody>\n",
       "</table>\n",
       "</div>"
      ],
      "text/plain": [
       "               LoanStatNew                                        Description\n",
       "50  mths_since_last_delinq  The number of months since the borrower's last...\n",
       "52  mths_since_last_record  The number of months since the last public rec...\n",
       "58            next_pymnt_d                        Next scheduled payment date"
      ]
     },
     "execution_count": 52,
     "metadata": {},
     "output_type": "execute_result"
    }
   ],
   "source": [
    "DataDict[DataDict[\"LoanStatNew\"].isin(GTFiftyDf.index)]"
   ]
  },
  {
   "cell_type": "markdown",
   "id": "29b0d670",
   "metadata": {},
   "source": [
    "### Next payment due is something that we could remove from the data set since the we have very few data and also this will not be a key factor is identifing defaulters"
   ]
  },
  {
   "cell_type": "code",
   "execution_count": 53,
   "id": "dabc462f",
   "metadata": {},
   "outputs": [],
   "source": [
    "LoanDf.drop([\"next_pymnt_d\"],axis=1,inplace=True)"
   ]
  },
  {
   "cell_type": "code",
   "execution_count": 77,
   "id": "d59a4196",
   "metadata": {},
   "outputs": [
    {
     "data": {
      "text/plain": [
       "(39717, 58)"
      ]
     },
     "execution_count": 77,
     "metadata": {},
     "output_type": "execute_result"
    }
   ],
   "source": [
    "LoanDf.shape"
   ]
  },
  {
   "cell_type": "markdown",
   "id": "d12166d7",
   "metadata": {},
   "source": [
    "## Next step is to clean the value in each column"
   ]
  },
  {
   "cell_type": "code",
   "execution_count": 55,
   "id": "fbc84e3f",
   "metadata": {},
   "outputs": [
    {
     "name": "stdout",
     "output_type": "stream",
     "text": [
      "<class 'pandas.core.frame.DataFrame'>\n",
      "RangeIndex: 39717 entries, 0 to 39716\n",
      "Data columns (total 56 columns):\n",
      " #   Column                      Non-Null Count  Dtype  \n",
      "---  ------                      --------------  -----  \n",
      " 0   id                          39717 non-null  int64  \n",
      " 1   member_id                   39717 non-null  int64  \n",
      " 2   loan_amnt                   39717 non-null  int64  \n",
      " 3   funded_amnt                 39717 non-null  int64  \n",
      " 4   funded_amnt_inv             39717 non-null  float64\n",
      " 5   term                        39717 non-null  object \n",
      " 6   int_rate                    39717 non-null  object \n",
      " 7   installment                 39717 non-null  float64\n",
      " 8   grade                       39717 non-null  object \n",
      " 9   sub_grade                   39717 non-null  object \n",
      " 10  emp_title                   37258 non-null  object \n",
      " 11  emp_length                  38642 non-null  object \n",
      " 12  home_ownership              39717 non-null  object \n",
      " 13  annual_inc                  39717 non-null  float64\n",
      " 14  verification_status         39717 non-null  object \n",
      " 15  issue_d                     39717 non-null  object \n",
      " 16  loan_status                 39717 non-null  object \n",
      " 17  pymnt_plan                  39717 non-null  object \n",
      " 18  url                         39717 non-null  object \n",
      " 19  desc                        26777 non-null  object \n",
      " 20  purpose                     39717 non-null  object \n",
      " 21  title                       39706 non-null  object \n",
      " 22  zip_code                    39717 non-null  object \n",
      " 23  addr_state                  39717 non-null  object \n",
      " 24  dti                         39717 non-null  float64\n",
      " 25  delinq_2yrs                 39717 non-null  int64  \n",
      " 26  earliest_cr_line            39717 non-null  object \n",
      " 27  inq_last_6mths              39717 non-null  int64  \n",
      " 28  mths_since_last_delinq      14035 non-null  float64\n",
      " 29  mths_since_last_record      2786 non-null   float64\n",
      " 30  open_acc                    39717 non-null  int64  \n",
      " 31  pub_rec                     39717 non-null  int64  \n",
      " 32  revol_bal                   39717 non-null  int64  \n",
      " 33  revol_util                  39667 non-null  object \n",
      " 34  total_acc                   39717 non-null  int64  \n",
      " 35  initial_list_status         39717 non-null  object \n",
      " 36  out_prncp                   39717 non-null  float64\n",
      " 37  out_prncp_inv               39717 non-null  float64\n",
      " 38  total_pymnt                 39717 non-null  float64\n",
      " 39  total_pymnt_inv             39717 non-null  float64\n",
      " 40  total_rec_prncp             39717 non-null  float64\n",
      " 41  total_rec_int               39717 non-null  float64\n",
      " 42  total_rec_late_fee          39717 non-null  float64\n",
      " 43  recoveries                  39717 non-null  float64\n",
      " 44  collection_recovery_fee     39717 non-null  float64\n",
      " 45  last_pymnt_d                39646 non-null  object \n",
      " 46  last_pymnt_amnt             39717 non-null  float64\n",
      " 47  last_credit_pull_d          39715 non-null  object \n",
      " 48  collections_12_mths_ex_med  39661 non-null  float64\n",
      " 49  policy_code                 39717 non-null  int64  \n",
      " 50  application_type            39717 non-null  object \n",
      " 51  acc_now_delinq              39717 non-null  int64  \n",
      " 52  chargeoff_within_12_mths    39661 non-null  float64\n",
      " 53  delinq_amnt                 39717 non-null  int64  \n",
      " 54  pub_rec_bankruptcies        39020 non-null  float64\n",
      " 55  tax_liens                   39678 non-null  float64\n",
      "dtypes: float64(20), int64(13), object(23)\n",
      "memory usage: 17.0+ MB\n"
     ]
    }
   ],
   "source": [
    "LoanDf.info()"
   ]
  },
  {
   "cell_type": "markdown",
   "id": "69c36595",
   "metadata": {},
   "source": [
    "### Column 'term'"
   ]
  },
  {
   "cell_type": "code",
   "execution_count": 56,
   "id": "aa16368f",
   "metadata": {},
   "outputs": [],
   "source": [
    "LoanDf[\"term\"] = LoanDf.term.apply(lambda x: x.rstrip(\"months\")).astype(\"int\")"
   ]
  },
  {
   "cell_type": "code",
   "execution_count": 57,
   "id": "0aa43e02",
   "metadata": {},
   "outputs": [
    {
     "data": {
      "text/plain": [
       "0        36\n",
       "1        60\n",
       "2        36\n",
       "3        36\n",
       "4        60\n",
       "         ..\n",
       "39712    36\n",
       "39713    36\n",
       "39714    36\n",
       "39715    36\n",
       "39716    36\n",
       "Name: term, Length: 39717, dtype: int64"
      ]
     },
     "execution_count": 57,
     "metadata": {},
     "output_type": "execute_result"
    }
   ],
   "source": [
    "LoanDf[\"term\"]"
   ]
  },
  {
   "cell_type": "markdown",
   "id": "baba3e56",
   "metadata": {},
   "source": [
    "### Column 'int_rate'"
   ]
  },
  {
   "cell_type": "code",
   "execution_count": 58,
   "id": "202a195b",
   "metadata": {},
   "outputs": [],
   "source": [
    "LoanDf[\"int_rate\"] = LoanDf.int_rate.apply(lambda x: x.rstrip(\"%\")).astype(\"float\")"
   ]
  },
  {
   "cell_type": "code",
   "execution_count": 59,
   "id": "2a747ee0",
   "metadata": {},
   "outputs": [
    {
     "data": {
      "text/plain": [
       "0        10.65\n",
       "1        15.27\n",
       "2        15.96\n",
       "3        13.49\n",
       "4        12.69\n",
       "         ...  \n",
       "39712     8.07\n",
       "39713    10.28\n",
       "39714     8.07\n",
       "39715     7.43\n",
       "39716    13.75\n",
       "Name: int_rate, Length: 39717, dtype: float64"
      ]
     },
     "execution_count": 59,
     "metadata": {},
     "output_type": "execute_result"
    }
   ],
   "source": [
    "LoanDf[\"int_rate\"]"
   ]
  },
  {
   "cell_type": "markdown",
   "id": "bd2f2b97",
   "metadata": {},
   "source": [
    "### Column 'issue_d' spliting to month and year"
   ]
  },
  {
   "cell_type": "code",
   "execution_count": 60,
   "id": "e814f099",
   "metadata": {},
   "outputs": [],
   "source": [
    "LoanDf[\"issue_d\"] = pd.to_datetime(LoanDf[\"issue_d\"],format=\"%b-%y\")"
   ]
  },
  {
   "cell_type": "code",
   "execution_count": 61,
   "id": "370d6840",
   "metadata": {},
   "outputs": [],
   "source": [
    "LoanDf[\"issue_m\"] = LoanDf['issue_d'].dt.month_name().str[:3]"
   ]
  },
  {
   "cell_type": "code",
   "execution_count": 62,
   "id": "eb007062",
   "metadata": {},
   "outputs": [],
   "source": [
    "LoanDf[\"issue_y\"] = pd.DatetimeIndex(LoanDf[\"issue_d\"]).year"
   ]
  },
  {
   "cell_type": "code",
   "execution_count": 63,
   "id": "590e8f0b",
   "metadata": {},
   "outputs": [
    {
     "data": {
      "text/html": [
       "<div>\n",
       "<style scoped>\n",
       "    .dataframe tbody tr th:only-of-type {\n",
       "        vertical-align: middle;\n",
       "    }\n",
       "\n",
       "    .dataframe tbody tr th {\n",
       "        vertical-align: top;\n",
       "    }\n",
       "\n",
       "    .dataframe thead th {\n",
       "        text-align: right;\n",
       "    }\n",
       "</style>\n",
       "<table border=\"1\" class=\"dataframe\">\n",
       "  <thead>\n",
       "    <tr style=\"text-align: right;\">\n",
       "      <th></th>\n",
       "      <th>issue_d</th>\n",
       "      <th>issue_m</th>\n",
       "      <th>issue_y</th>\n",
       "    </tr>\n",
       "  </thead>\n",
       "  <tbody>\n",
       "    <tr>\n",
       "      <th>0</th>\n",
       "      <td>2011-12-01</td>\n",
       "      <td>Dec</td>\n",
       "      <td>2011</td>\n",
       "    </tr>\n",
       "    <tr>\n",
       "      <th>1</th>\n",
       "      <td>2011-12-01</td>\n",
       "      <td>Dec</td>\n",
       "      <td>2011</td>\n",
       "    </tr>\n",
       "    <tr>\n",
       "      <th>2</th>\n",
       "      <td>2011-12-01</td>\n",
       "      <td>Dec</td>\n",
       "      <td>2011</td>\n",
       "    </tr>\n",
       "    <tr>\n",
       "      <th>3</th>\n",
       "      <td>2011-12-01</td>\n",
       "      <td>Dec</td>\n",
       "      <td>2011</td>\n",
       "    </tr>\n",
       "    <tr>\n",
       "      <th>4</th>\n",
       "      <td>2011-12-01</td>\n",
       "      <td>Dec</td>\n",
       "      <td>2011</td>\n",
       "    </tr>\n",
       "  </tbody>\n",
       "</table>\n",
       "</div>"
      ],
      "text/plain": [
       "     issue_d issue_m  issue_y\n",
       "0 2011-12-01     Dec     2011\n",
       "1 2011-12-01     Dec     2011\n",
       "2 2011-12-01     Dec     2011\n",
       "3 2011-12-01     Dec     2011\n",
       "4 2011-12-01     Dec     2011"
      ]
     },
     "execution_count": 63,
     "metadata": {},
     "output_type": "execute_result"
    }
   ],
   "source": [
    "LoanDf[[\"issue_d\",\"issue_m\",\"issue_y\"]].head()"
   ]
  },
  {
   "cell_type": "markdown",
   "id": "4fbc3b51",
   "metadata": {},
   "source": [
    "### Column 'pymnt_plan' has only value 'n' hence this could be dropped"
   ]
  },
  {
   "cell_type": "code",
   "execution_count": 64,
   "id": "061637ef",
   "metadata": {},
   "outputs": [
    {
     "data": {
      "text/plain": [
       "array(['n'], dtype=object)"
      ]
     },
     "execution_count": 64,
     "metadata": {},
     "output_type": "execute_result"
    }
   ],
   "source": [
    "LoanDf[\"pymnt_plan\"].unique()"
   ]
  },
  {
   "cell_type": "code",
   "execution_count": 75,
   "id": "d7bf38fc",
   "metadata": {},
   "outputs": [],
   "source": [
    "LoanDf.drop([\"pymnt_plan\"],axis=1,inplace=True)"
   ]
  },
  {
   "cell_type": "markdown",
   "id": "a52a0493",
   "metadata": {},
   "source": [
    "### Column 'url' could be dropped as this doesn't have any relevant information for the analysis"
   ]
  },
  {
   "cell_type": "code",
   "execution_count": 65,
   "id": "dc695c82",
   "metadata": {},
   "outputs": [
    {
     "data": {
      "text/plain": [
       "0        https://lendingclub.com/browse/loanDetail.acti...\n",
       "1        https://lendingclub.com/browse/loanDetail.acti...\n",
       "2        https://lendingclub.com/browse/loanDetail.acti...\n",
       "3        https://lendingclub.com/browse/loanDetail.acti...\n",
       "4        https://lendingclub.com/browse/loanDetail.acti...\n",
       "                               ...                        \n",
       "39712    https://lendingclub.com/browse/loanDetail.acti...\n",
       "39713    https://lendingclub.com/browse/loanDetail.acti...\n",
       "39714    https://lendingclub.com/browse/loanDetail.acti...\n",
       "39715    https://lendingclub.com/browse/loanDetail.acti...\n",
       "39716    https://lendingclub.com/browse/loanDetail.acti...\n",
       "Name: url, Length: 39717, dtype: object"
      ]
     },
     "execution_count": 65,
     "metadata": {},
     "output_type": "execute_result"
    }
   ],
   "source": [
    "LoanDf[\"url\"]"
   ]
  },
  {
   "cell_type": "code",
   "execution_count": 76,
   "id": "6f2a2158",
   "metadata": {},
   "outputs": [],
   "source": [
    "LoanDf.drop([\"url\"],axis=1,inplace=True)"
   ]
  },
  {
   "cell_type": "markdown",
   "id": "51778314",
   "metadata": {},
   "source": [
    "### Column 'earliest_cr_line' spliting into month and year"
   ]
  },
  {
   "cell_type": "code",
   "execution_count": 66,
   "id": "24cbf340",
   "metadata": {},
   "outputs": [],
   "source": [
    "LoanDf[\"earliest_cr_line\"] = pd.to_datetime(LoanDf[\"earliest_cr_line\"],format=\"%b-%y\")\n",
    "LoanDf[\"earliest_cr_line_m\"] = LoanDf['earliest_cr_line'].dt.month_name().str[:3]\n",
    "LoanDf[\"earliest_cr_line_y\"] = pd.DatetimeIndex(LoanDf[\"earliest_cr_line\"]).year"
   ]
  },
  {
   "cell_type": "code",
   "execution_count": 67,
   "id": "62041fc5",
   "metadata": {},
   "outputs": [
    {
     "data": {
      "text/html": [
       "<div>\n",
       "<style scoped>\n",
       "    .dataframe tbody tr th:only-of-type {\n",
       "        vertical-align: middle;\n",
       "    }\n",
       "\n",
       "    .dataframe tbody tr th {\n",
       "        vertical-align: top;\n",
       "    }\n",
       "\n",
       "    .dataframe thead th {\n",
       "        text-align: right;\n",
       "    }\n",
       "</style>\n",
       "<table border=\"1\" class=\"dataframe\">\n",
       "  <thead>\n",
       "    <tr style=\"text-align: right;\">\n",
       "      <th></th>\n",
       "      <th>earliest_cr_line</th>\n",
       "      <th>earliest_cr_line_m</th>\n",
       "      <th>earliest_cr_line_y</th>\n",
       "    </tr>\n",
       "  </thead>\n",
       "  <tbody>\n",
       "    <tr>\n",
       "      <th>0</th>\n",
       "      <td>1985-01-01</td>\n",
       "      <td>Jan</td>\n",
       "      <td>1985</td>\n",
       "    </tr>\n",
       "    <tr>\n",
       "      <th>1</th>\n",
       "      <td>1999-04-01</td>\n",
       "      <td>Apr</td>\n",
       "      <td>1999</td>\n",
       "    </tr>\n",
       "    <tr>\n",
       "      <th>2</th>\n",
       "      <td>2001-11-01</td>\n",
       "      <td>Nov</td>\n",
       "      <td>2001</td>\n",
       "    </tr>\n",
       "    <tr>\n",
       "      <th>3</th>\n",
       "      <td>1996-02-01</td>\n",
       "      <td>Feb</td>\n",
       "      <td>1996</td>\n",
       "    </tr>\n",
       "    <tr>\n",
       "      <th>4</th>\n",
       "      <td>1996-01-01</td>\n",
       "      <td>Jan</td>\n",
       "      <td>1996</td>\n",
       "    </tr>\n",
       "  </tbody>\n",
       "</table>\n",
       "</div>"
      ],
      "text/plain": [
       "  earliest_cr_line earliest_cr_line_m  earliest_cr_line_y\n",
       "0       1985-01-01                Jan                1985\n",
       "1       1999-04-01                Apr                1999\n",
       "2       2001-11-01                Nov                2001\n",
       "3       1996-02-01                Feb                1996\n",
       "4       1996-01-01                Jan                1996"
      ]
     },
     "execution_count": 67,
     "metadata": {},
     "output_type": "execute_result"
    }
   ],
   "source": [
    "LoanDf[[\"earliest_cr_line\",\"earliest_cr_line_m\",\"earliest_cr_line_y\"]].head()"
   ]
  },
  {
   "cell_type": "markdown",
   "id": "1fe78e17",
   "metadata": {},
   "source": [
    "### Column 'mths_since_last_delinq' setting the null values as 0, assuming that LC would have the data collected if customer is delinquent\n",
    "> In special sceanrios (contrary to the assumption) we will handle it seperately"
   ]
  },
  {
   "cell_type": "code",
   "execution_count": 68,
   "id": "8e4356dd",
   "metadata": {},
   "outputs": [
    {
     "name": "stderr",
     "output_type": "stream",
     "text": [
      "/Users/I320866/opt/anaconda3/lib/python3.9/site-packages/seaborn/_decorators.py:36: FutureWarning: Pass the following variable as a keyword arg: x. From version 0.12, the only valid positional argument will be `data`, and passing other arguments without an explicit keyword will result in an error or misinterpretation.\n",
      "  warnings.warn(\n"
     ]
    },
    {
     "data": {
      "text/plain": [
       "<AxesSubplot:xlabel='mths_since_last_delinq'>"
      ]
     },
     "execution_count": 68,
     "metadata": {},
     "output_type": "execute_result"
    },
    {
     "data": {
      "image/png": "[encoded data removed]",
      "text/plain": [
       "<Figure size 432x288 with 1 Axes>"
      ]
     },
     "metadata": {
      "needs_background": "light"
     },
     "output_type": "display_data"
    }
   ],
   "source": [
    "sns.boxplot(LoanDf[\"mths_since_last_delinq\"])"
   ]
  },
  {
   "cell_type": "code",
   "execution_count": 73,
   "id": "acedfa23",
   "metadata": {},
   "outputs": [
    {
     "data": {
      "text/plain": [
       "<AxesSubplot:xlabel='mths_since_last_delinq', ylabel='Count'>"
      ]
     },
     "execution_count": 73,
     "metadata": {},
     "output_type": "execute_result"
    },
    {
     "data": {
      "image/png": "[encoded data removed]",
      "text/plain": [
       "<Figure size 432x288 with 1 Axes>"
      ]
     },
     "metadata": {
      "needs_background": "light"
     },
     "output_type": "display_data"
    }
   ],
   "source": [
    "sns.histplot(LoanDf[\"mths_since_last_delinq\"])"
   ]
  },
  {
   "cell_type": "code",
   "execution_count": 71,
   "id": "d3601c93",
   "metadata": {},
   "outputs": [
    {
     "data": {
      "text/plain": [
       "34.0"
      ]
     },
     "execution_count": 71,
     "metadata": {},
     "output_type": "execute_result"
    }
   ],
   "source": [
    "LoanDf[\"mths_since_last_delinq\"].median()"
   ]
  },
  {
   "cell_type": "code",
   "execution_count": 72,
   "id": "5b79c16d",
   "metadata": {},
   "outputs": [],
   "source": [
    "##LoanDf.mths_since_last_delinq.fillna(34,inplace=True)"
   ]
  },
  {
   "cell_type": "markdown",
   "id": "d3da6bd2",
   "metadata": {},
   "source": [
    "### Setting the missing value to zero or median will change the distribution a lot hence will leave as it is"
   ]
  },
  {
   "cell_type": "markdown",
   "id": "60f4a2b3",
   "metadata": {},
   "source": [
    "### Column 'mths_since_last_record'"
   ]
  },
  {
   "cell_type": "code",
   "execution_count": 33,
   "id": "6732e625",
   "metadata": {},
   "outputs": [
    {
     "name": "stderr",
     "output_type": "stream",
     "text": [
      "/Users/I320866/opt/anaconda3/lib/python3.9/site-packages/seaborn/_decorators.py:36: FutureWarning: Pass the following variable as a keyword arg: x. From version 0.12, the only valid positional argument will be `data`, and passing other arguments without an explicit keyword will result in an error or misinterpretation.\n",
      "  warnings.warn(\n"
     ]
    },
    {
     "data": {
      "text/plain": [
       "<AxesSubplot:xlabel='mths_since_last_record'>"
      ]
     },
     "execution_count": 33,
     "metadata": {},
     "output_type": "execute_result"
    },
    {
     "data": {
      "image/png": "[encoded data removed]",
      "text/plain": [
       "<Figure size 432x288 with 1 Axes>"
      ]
     },
     "metadata": {
      "needs_background": "light"
     },
     "output_type": "display_data"
    }
   ],
   "source": [
    "sns.boxplot(LoanDf[\"mths_since_last_record\"])"
   ]
  },
  {
   "cell_type": "code",
   "execution_count": 38,
   "id": "daa70032",
   "metadata": {},
   "outputs": [
    {
     "data": {
      "text/plain": [
       "<AxesSubplot:xlabel='mths_since_last_record', ylabel='Count'>"
      ]
     },
     "execution_count": 38,
     "metadata": {},
     "output_type": "execute_result"
    },
    {
     "data": {
      "image/png": "[encoded data removed]",
      "text/plain": [
       "<Figure size 432x288 with 1 Axes>"
      ]
     },
     "metadata": {
      "needs_background": "light"
     },
     "output_type": "display_data"
    }
   ],
   "source": [
    "sns.histplot(LoanDf[\"mths_since_last_record\"])"
   ]
  },
  {
   "cell_type": "markdown",
   "id": "f0400e85",
   "metadata": {},
   "source": [
    "### Setting the missing value to zero or median will change the distribution a lot hence will leave as it is\n"
   ]
  },
  {
   "cell_type": "code",
   "execution_count": 39,
   "id": "45d0f25d",
   "metadata": {},
   "outputs": [],
   "source": [
    "## LoanDf.mths_since_last_record.fillna(0,inplace=True)"
   ]
  },
  {
   "cell_type": "markdown",
   "id": "fec65689",
   "metadata": {},
   "source": [
    "### Column 'revol_util' removing the %"
   ]
  },
  {
   "cell_type": "code",
   "execution_count": 91,
   "id": "306ded04",
   "metadata": {
    "scrolled": true
   },
   "outputs": [],
   "source": [
    "LoanDf['revol_util'] = LoanDf['revol_util'].astype(str).str.rstrip('%')"
   ]
  },
  {
   "cell_type": "code",
   "execution_count": 92,
   "id": "4a2c07e3",
   "metadata": {},
   "outputs": [
    {
     "data": {
      "text/plain": [
       "0        83.70\n",
       "1         9.40\n",
       "2        98.50\n",
       "3           21\n",
       "4        53.90\n",
       "         ...  \n",
       "39712    13.10\n",
       "39713    26.90\n",
       "39714    19.40\n",
       "39715     0.70\n",
       "39716    51.50\n",
       "Name: revol_util, Length: 39717, dtype: object"
      ]
     },
     "execution_count": 92,
     "metadata": {},
     "output_type": "execute_result"
    }
   ],
   "source": [
    "LoanDf['revol_util']"
   ]
  },
  {
   "cell_type": "markdown",
   "id": "e8eabbc0",
   "metadata": {},
   "source": [
    "### Column 'initial_list_status'"
   ]
  },
  {
   "cell_type": "code",
   "execution_count": 96,
   "id": "ef0e6d3e",
   "metadata": {},
   "outputs": [
    {
     "data": {
      "text/plain": [
       "0        f\n",
       "1        f\n",
       "2        f\n",
       "3        f\n",
       "4        f\n",
       "        ..\n",
       "39712    f\n",
       "39713    f\n",
       "39714    f\n",
       "39715    f\n",
       "39716    f\n",
       "Name: initial_list_status, Length: 39717, dtype: object"
      ]
     },
     "execution_count": 96,
     "metadata": {},
     "output_type": "execute_result"
    }
   ],
   "source": [
    "LoanDf[\"initial_list_status\"]\n",
    "## What is w & f ?"
   ]
  },
  {
   "cell_type": "markdown",
   "id": "2c537432",
   "metadata": {},
   "source": [
    "### Column 'total_pymnt' rounding off to 2 decimals"
   ]
  },
  {
   "cell_type": "code",
   "execution_count": 102,
   "id": "8544a7ad",
   "metadata": {},
   "outputs": [],
   "source": [
    "LoanDf[\"total_pymnt\"] = LoanDf[\"total_pymnt\"].round(2)"
   ]
  },
  {
   "cell_type": "markdown",
   "id": "31004ed1",
   "metadata": {},
   "source": [
    "### Column 'total_pymnt_inv' rounding off to 2 decimals"
   ]
  },
  {
   "cell_type": "code",
   "execution_count": 104,
   "id": "707ff7b8",
   "metadata": {},
   "outputs": [],
   "source": [
    "LoanDf[\"total_pymnt_inv\"] = LoanDf[\"total_pymnt_inv\"].round(2)"
   ]
  },
  {
   "cell_type": "markdown",
   "id": "6bc6b860",
   "metadata": {},
   "source": [
    "### Column 'last_pymnt_d' spliting into month and year"
   ]
  },
  {
   "cell_type": "code",
   "execution_count": 110,
   "id": "bf7a4154",
   "metadata": {},
   "outputs": [
    {
     "data": {
      "text/plain": [
       "0        Jan-15\n",
       "1        Apr-13\n",
       "2        Jun-14\n",
       "3        Jan-15\n",
       "4        May-16\n",
       "          ...  \n",
       "39712    Jul-10\n",
       "39713    Jul-10\n",
       "39714    Apr-08\n",
       "39715    Jan-08\n",
       "39716    Jun-10\n",
       "Name: last_pymnt_d, Length: 39717, dtype: object"
      ]
     },
     "execution_count": 110,
     "metadata": {},
     "output_type": "execute_result"
    }
   ],
   "source": [
    "LoanDf[\"last_pymnt_d\"]"
   ]
  },
  {
   "cell_type": "code",
   "execution_count": 111,
   "id": "72967f79",
   "metadata": {},
   "outputs": [],
   "source": [
    "LoanDf[\"last_pymnt_d\"] = pd.to_datetime(LoanDf[\"last_pymnt_d\"],format=\"%b-%y\")\n",
    "LoanDf[\"last_pymnt_m\"] = LoanDf['last_pymnt_d'].dt.month_name().str[:3]\n",
    "LoanDf[\"last_pymnt_y\"] = pd.DatetimeIndex(LoanDf[\"last_pymnt_d\"]).year"
   ]
  },
  {
   "cell_type": "code",
   "execution_count": 112,
   "id": "2500170a",
   "metadata": {},
   "outputs": [
    {
     "data": {
      "text/html": [
       "<div>\n",
       "<style scoped>\n",
       "    .dataframe tbody tr th:only-of-type {\n",
       "        vertical-align: middle;\n",
       "    }\n",
       "\n",
       "    .dataframe tbody tr th {\n",
       "        vertical-align: top;\n",
       "    }\n",
       "\n",
       "    .dataframe thead th {\n",
       "        text-align: right;\n",
       "    }\n",
       "</style>\n",
       "<table border=\"1\" class=\"dataframe\">\n",
       "  <thead>\n",
       "    <tr style=\"text-align: right;\">\n",
       "      <th></th>\n",
       "      <th>last_pymnt_d</th>\n",
       "      <th>last_pymnt_m</th>\n",
       "      <th>last_pymnt_y</th>\n",
       "    </tr>\n",
       "  </thead>\n",
       "  <tbody>\n",
       "    <tr>\n",
       "      <th>0</th>\n",
       "      <td>2015-01-01</td>\n",
       "      <td>Jan</td>\n",
       "      <td>2015.0</td>\n",
       "    </tr>\n",
       "    <tr>\n",
       "      <th>1</th>\n",
       "      <td>2013-04-01</td>\n",
       "      <td>Apr</td>\n",
       "      <td>2013.0</td>\n",
       "    </tr>\n",
       "    <tr>\n",
       "      <th>2</th>\n",
       "      <td>2014-06-01</td>\n",
       "      <td>Jun</td>\n",
       "      <td>2014.0</td>\n",
       "    </tr>\n",
       "    <tr>\n",
       "      <th>3</th>\n",
       "      <td>2015-01-01</td>\n",
       "      <td>Jan</td>\n",
       "      <td>2015.0</td>\n",
       "    </tr>\n",
       "    <tr>\n",
       "      <th>4</th>\n",
       "      <td>2016-05-01</td>\n",
       "      <td>May</td>\n",
       "      <td>2016.0</td>\n",
       "    </tr>\n",
       "  </tbody>\n",
       "</table>\n",
       "</div>"
      ],
      "text/plain": [
       "  last_pymnt_d last_pymnt_m  last_pymnt_y\n",
       "0   2015-01-01          Jan        2015.0\n",
       "1   2013-04-01          Apr        2013.0\n",
       "2   2014-06-01          Jun        2014.0\n",
       "3   2015-01-01          Jan        2015.0\n",
       "4   2016-05-01          May        2016.0"
      ]
     },
     "execution_count": 112,
     "metadata": {},
     "output_type": "execute_result"
    }
   ],
   "source": [
    "LoanDf[[\"last_pymnt_d\",\"last_pymnt_m\",\"last_pymnt_y\"]].head()"
   ]
  },
  {
   "cell_type": "markdown",
   "id": "ccd88199",
   "metadata": {},
   "source": [
    "### <span style=\"color:red\">Remove the trailing zero</span>."
   ]
  },
  {
   "cell_type": "code",
   "execution_count": 123,
   "id": "5b93929b",
   "metadata": {},
   "outputs": [
    {
     "data": {
      "text/plain": [
       "0        May-16\n",
       "1        Sep-13\n",
       "2        May-16\n",
       "3        Apr-16\n",
       "4        May-16\n",
       "          ...  \n",
       "39712    Jun-10\n",
       "39713    Jul-10\n",
       "39714    Jun-07\n",
       "39715    Jun-07\n",
       "39716    Jun-10\n",
       "Name: last_credit_pull_d, Length: 39717, dtype: object"
      ]
     },
     "execution_count": 123,
     "metadata": {},
     "output_type": "execute_result"
    }
   ],
   "source": [
    "LoanDf[\"last_credit_pull_d\"]"
   ]
  },
  {
   "cell_type": "markdown",
   "id": "9c8c826c",
   "metadata": {},
   "source": [
    "### Column 'last_credit_pull_d' spliting to month and year"
   ]
  },
  {
   "cell_type": "code",
   "execution_count": 124,
   "id": "a93d3038",
   "metadata": {},
   "outputs": [],
   "source": [
    "LoanDf[\"last_credit_pull_d\"] = pd.to_datetime(LoanDf[\"last_credit_pull_d\"],format=\"%b-%y\")\n",
    "LoanDf[\"last_credit_pull_m\"] = LoanDf['last_credit_pull_d'].dt.month_name().str[:3]\n",
    "LoanDf[\"last_credit_pull_y\"] = pd.DatetimeIndex(LoanDf[\"last_credit_pull_d\"]).year"
   ]
  },
  {
   "cell_type": "code",
   "execution_count": 125,
   "id": "a5b53be9",
   "metadata": {},
   "outputs": [
    {
     "data": {
      "text/html": [
       "<div>\n",
       "<style scoped>\n",
       "    .dataframe tbody tr th:only-of-type {\n",
       "        vertical-align: middle;\n",
       "    }\n",
       "\n",
       "    .dataframe tbody tr th {\n",
       "        vertical-align: top;\n",
       "    }\n",
       "\n",
       "    .dataframe thead th {\n",
       "        text-align: right;\n",
       "    }\n",
       "</style>\n",
       "<table border=\"1\" class=\"dataframe\">\n",
       "  <thead>\n",
       "    <tr style=\"text-align: right;\">\n",
       "      <th></th>\n",
       "      <th>last_credit_pull_d</th>\n",
       "      <th>last_credit_pull_m</th>\n",
       "      <th>last_credit_pull_y</th>\n",
       "    </tr>\n",
       "  </thead>\n",
       "  <tbody>\n",
       "    <tr>\n",
       "      <th>0</th>\n",
       "      <td>2016-05-01</td>\n",
       "      <td>May</td>\n",
       "      <td>2016.0</td>\n",
       "    </tr>\n",
       "    <tr>\n",
       "      <th>1</th>\n",
       "      <td>2013-09-01</td>\n",
       "      <td>Sep</td>\n",
       "      <td>2013.0</td>\n",
       "    </tr>\n",
       "    <tr>\n",
       "      <th>2</th>\n",
       "      <td>2016-05-01</td>\n",
       "      <td>May</td>\n",
       "      <td>2016.0</td>\n",
       "    </tr>\n",
       "    <tr>\n",
       "      <th>3</th>\n",
       "      <td>2016-04-01</td>\n",
       "      <td>Apr</td>\n",
       "      <td>2016.0</td>\n",
       "    </tr>\n",
       "    <tr>\n",
       "      <th>4</th>\n",
       "      <td>2016-05-01</td>\n",
       "      <td>May</td>\n",
       "      <td>2016.0</td>\n",
       "    </tr>\n",
       "  </tbody>\n",
       "</table>\n",
       "</div>"
      ],
      "text/plain": [
       "  last_credit_pull_d last_credit_pull_m  last_credit_pull_y\n",
       "0         2016-05-01                May              2016.0\n",
       "1         2013-09-01                Sep              2013.0\n",
       "2         2016-05-01                May              2016.0\n",
       "3         2016-04-01                Apr              2016.0\n",
       "4         2016-05-01                May              2016.0"
      ]
     },
     "execution_count": 125,
     "metadata": {},
     "output_type": "execute_result"
    }
   ],
   "source": [
    "LoanDf[[\"last_credit_pull_d\",\"last_credit_pull_m\",\"last_credit_pull_y\"]].head()"
   ]
  },
  {
   "cell_type": "markdown",
   "id": "466e34b6",
   "metadata": {},
   "source": [
    "### <span style=\"color:red\">Remove the trailing zero</span>."
   ]
  },
  {
   "cell_type": "code",
   "execution_count": 129,
   "id": "cddad7c9",
   "metadata": {},
   "outputs": [
    {
     "data": {
      "text/plain": [
       "array([ 0., nan])"
      ]
     },
     "execution_count": 129,
     "metadata": {},
     "output_type": "execute_result"
    }
   ],
   "source": [
    "LoanDf[\"collections_12_mths_ex_med\"].unique()"
   ]
  },
  {
   "cell_type": "code",
   "execution_count": 127,
   "id": "ef2b0faf",
   "metadata": {},
   "outputs": [
    {
     "name": "stderr",
     "output_type": "stream",
     "text": [
      "/Users/I320866/opt/anaconda3/lib/python3.9/site-packages/seaborn/_decorators.py:36: FutureWarning: Pass the following variable as a keyword arg: x. From version 0.12, the only valid positional argument will be `data`, and passing other arguments without an explicit keyword will result in an error or misinterpretation.\n",
      "  warnings.warn(\n"
     ]
    },
    {
     "data": {
      "text/plain": [
       "<AxesSubplot:xlabel='collections_12_mths_ex_med'>"
      ]
     },
     "execution_count": 127,
     "metadata": {},
     "output_type": "execute_result"
    },
    {
     "data": {
      "image/png": "[encoded data removed]",
      "text/plain": [
       "<Figure size 432x288 with 1 Axes>"
      ]
     },
     "metadata": {
      "needs_background": "light"
     },
     "output_type": "display_data"
    }
   ],
   "source": [
    "sns.boxplot(LoanDf[\"collections_12_mths_ex_med\"])"
   ]
  },
  {
   "cell_type": "markdown",
   "id": "f11a2f11",
   "metadata": {},
   "source": [
    "### <span style=\"color:red\">What is medical collection ??? </span>."
   ]
  },
  {
   "cell_type": "markdown",
   "id": "a459eda9",
   "metadata": {},
   "source": [
    "### We can ignore/drop this column since this doesn't have any meaningfull data"
   ]
  },
  {
   "cell_type": "code",
   "execution_count": 130,
   "id": "6136a8dc",
   "metadata": {},
   "outputs": [],
   "source": [
    "LoanDf.drop([\"collections_12_mths_ex_med\"],axis=1,inplace=True)"
   ]
  },
  {
   "cell_type": "markdown",
   "id": "56bbaf88",
   "metadata": {},
   "source": [
    "### Column 'application_type' has only value 'INDIVIDUAL' hence we can drop this"
   ]
  },
  {
   "cell_type": "code",
   "execution_count": 133,
   "id": "92b3c271",
   "metadata": {},
   "outputs": [
    {
     "data": {
      "text/plain": [
       "array(['INDIVIDUAL'], dtype=object)"
      ]
     },
     "execution_count": 133,
     "metadata": {},
     "output_type": "execute_result"
    }
   ],
   "source": [
    "LoanDf[\"application_type\"].unique()"
   ]
  },
  {
   "cell_type": "code",
   "execution_count": 134,
   "id": "c17a2ae1",
   "metadata": {},
   "outputs": [],
   "source": [
    "LoanDf.drop([\"application_type\"],axis=1,inplace=True)"
   ]
  },
  {
   "cell_type": "markdown",
   "id": "6e8b483b",
   "metadata": {},
   "source": [
    "### Column 'acc_now_delinq' has only value '0' hence we can drop this\n"
   ]
  },
  {
   "cell_type": "code",
   "execution_count": 139,
   "id": "fe8f2673",
   "metadata": {},
   "outputs": [
    {
     "data": {
      "text/plain": [
       "array([0])"
      ]
     },
     "execution_count": 139,
     "metadata": {},
     "output_type": "execute_result"
    }
   ],
   "source": [
    "LoanDf[\"acc_now_delinq\"].unique()"
   ]
  },
  {
   "cell_type": "code",
   "execution_count": 140,
   "id": "c85386e9",
   "metadata": {},
   "outputs": [],
   "source": [
    "LoanDf.drop([\"acc_now_delinq\"],axis=1,inplace=True)"
   ]
  },
  {
   "cell_type": "markdown",
   "id": "33559623",
   "metadata": {},
   "source": [
    "### Column 'chargeoff_within_12_mths' has only value '0 & nan' hence we can drop this\n"
   ]
  },
  {
   "cell_type": "code",
   "execution_count": 142,
   "id": "bbd4da4a",
   "metadata": {},
   "outputs": [
    {
     "data": {
      "text/plain": [
       "array([ 0., nan])"
      ]
     },
     "execution_count": 142,
     "metadata": {},
     "output_type": "execute_result"
    }
   ],
   "source": [
    "LoanDf[\"chargeoff_within_12_mths\"].unique()"
   ]
  },
  {
   "cell_type": "code",
   "execution_count": 143,
   "id": "44f589d1",
   "metadata": {},
   "outputs": [],
   "source": [
    "LoanDf.drop([\"chargeoff_within_12_mths\"],axis=1,inplace=True)"
   ]
  },
  {
   "cell_type": "markdown",
   "id": "b515bfff",
   "metadata": {},
   "source": [
    "### Column 'delinq_amnt' has only value '0' hence we can drop this\n"
   ]
  },
  {
   "cell_type": "code",
   "execution_count": 146,
   "id": "c03d7a84",
   "metadata": {},
   "outputs": [
    {
     "data": {
      "text/plain": [
       "array([0])"
      ]
     },
     "execution_count": 146,
     "metadata": {},
     "output_type": "execute_result"
    }
   ],
   "source": [
    "LoanDf[\"delinq_amnt\"].unique()"
   ]
  },
  {
   "cell_type": "code",
   "execution_count": 147,
   "id": "eee57456",
   "metadata": {},
   "outputs": [],
   "source": [
    "LoanDf.drop([\"delinq_amnt\"],axis=1,inplace=True)"
   ]
  },
  {
   "cell_type": "code",
   "execution_count": 150,
   "id": "2fb6cc91",
   "metadata": {},
   "outputs": [
    {
     "data": {
      "text/plain": [
       "array([ 0.,  1.,  2., nan])"
      ]
     },
     "execution_count": 150,
     "metadata": {},
     "output_type": "execute_result"
    }
   ],
   "source": [
    "LoanDf[\"pub_rec_bankruptcies\"].unique()"
   ]
  },
  {
   "cell_type": "code",
   "execution_count": 153,
   "id": "b270fb0e",
   "metadata": {},
   "outputs": [
    {
     "data": {
      "text/plain": [
       "697"
      ]
     },
     "execution_count": 153,
     "metadata": {},
     "output_type": "execute_result"
    }
   ],
   "source": [
    "LoanDf[\"pub_rec_bankruptcies\"].isnull().sum()"
   ]
  },
  {
   "cell_type": "code",
   "execution_count": 151,
   "id": "61a7177b",
   "metadata": {},
   "outputs": [
    {
     "name": "stderr",
     "output_type": "stream",
     "text": [
      "/Users/I320866/opt/anaconda3/lib/python3.9/site-packages/seaborn/_decorators.py:36: FutureWarning: Pass the following variable as a keyword arg: x. From version 0.12, the only valid positional argument will be `data`, and passing other arguments without an explicit keyword will result in an error or misinterpretation.\n",
      "  warnings.warn(\n"
     ]
    },
    {
     "data": {
      "text/plain": [
       "<AxesSubplot:xlabel='pub_rec_bankruptcies'>"
      ]
     },
     "execution_count": 151,
     "metadata": {},
     "output_type": "execute_result"
    },
    {
     "data": {
      "image/png": "[encoded data removed]",
      "text/plain": [
       "<Figure size 432x288 with 1 Axes>"
      ]
     },
     "metadata": {
      "needs_background": "light"
     },
     "output_type": "display_data"
    }
   ],
   "source": [
    "sns.boxplot(LoanDf[\"pub_rec_bankruptcies\"])"
   ]
  },
  {
   "cell_type": "code",
   "execution_count": 155,
   "id": "dff87463",
   "metadata": {},
   "outputs": [
    {
     "data": {
      "text/plain": [
       "<AxesSubplot:xlabel='pub_rec_bankruptcies', ylabel='Count'>"
      ]
     },
     "execution_count": 155,
     "metadata": {},
     "output_type": "execute_result"
    },
    {
     "data": {
      "image/png": "[encoded data removed]",
      "text/plain": [
       "<Figure size 432x288 with 1 Axes>"
      ]
     },
     "metadata": {
      "needs_background": "light"
     },
     "output_type": "display_data"
    }
   ],
   "source": [
    "sns.histplot(LoanDf[\"pub_rec_bankruptcies\"])"
   ]
  },
  {
   "cell_type": "markdown",
   "id": "c33e7b5f",
   "metadata": {},
   "source": [
    "### Majority of the value is zero hence setting the missing value as zero will not impact the overall distribution"
   ]
  },
  {
   "cell_type": "code",
   "execution_count": 154,
   "id": "e4615b68",
   "metadata": {},
   "outputs": [],
   "source": [
    "LoanDf.pub_rec_bankruptcies.fillna(0,inplace=True)"
   ]
  },
  {
   "cell_type": "markdown",
   "id": "a798437c",
   "metadata": {},
   "source": [
    "### Column 'tax_liens' has only value '0 & nan' hence we can drop this"
   ]
  },
  {
   "cell_type": "code",
   "execution_count": 157,
   "id": "f4324d92",
   "metadata": {},
   "outputs": [
    {
     "data": {
      "text/plain": [
       "array([ 0., nan])"
      ]
     },
     "execution_count": 157,
     "metadata": {},
     "output_type": "execute_result"
    }
   ],
   "source": [
    "LoanDf[\"tax_liens\"].unique()"
   ]
  },
  {
   "cell_type": "code",
   "execution_count": 158,
   "id": "a28e2e38",
   "metadata": {},
   "outputs": [],
   "source": [
    "LoanDf.drop([\"tax_liens\"],axis=1,inplace=True)"
   ]
  },
  {
   "cell_type": "markdown",
   "id": "4e4a279a",
   "metadata": {},
   "source": [
    "## Final structure of DataFrame after cleaning"
   ]
  },
  {
   "cell_type": "code",
   "execution_count": 159,
   "id": "65604db0",
   "metadata": {},
   "outputs": [
    {
     "name": "stdout",
     "output_type": "stream",
     "text": [
      "<class 'pandas.core.frame.DataFrame'>\n",
      "RangeIndex: 39717 entries, 0 to 39716\n",
      "Data columns (total 56 columns):\n",
      " #   Column                   Non-Null Count  Dtype         \n",
      "---  ------                   --------------  -----         \n",
      " 0   id                       39717 non-null  int64         \n",
      " 1   member_id                39717 non-null  int64         \n",
      " 2   loan_amnt                39717 non-null  int64         \n",
      " 3   funded_amnt              39717 non-null  int64         \n",
      " 4   funded_amnt_inv          39717 non-null  float64       \n",
      " 5   term                     39717 non-null  int64         \n",
      " 6   int_rate                 39717 non-null  float64       \n",
      " 7   installment              39717 non-null  float64       \n",
      " 8   grade                    39717 non-null  object        \n",
      " 9   sub_grade                39717 non-null  object        \n",
      " 10  emp_title                37258 non-null  object        \n",
      " 11  emp_length               38642 non-null  object        \n",
      " 12  home_ownership           39717 non-null  object        \n",
      " 13  annual_inc               39717 non-null  float64       \n",
      " 14  verification_status      39717 non-null  object        \n",
      " 15  issue_d                  39717 non-null  datetime64[ns]\n",
      " 16  loan_status              39717 non-null  object        \n",
      " 17  desc                     26777 non-null  object        \n",
      " 18  purpose                  39717 non-null  object        \n",
      " 19  title                    39706 non-null  object        \n",
      " 20  zip_code                 39717 non-null  object        \n",
      " 21  addr_state               39717 non-null  object        \n",
      " 22  dti                      39717 non-null  float64       \n",
      " 23  delinq_2yrs              39717 non-null  int64         \n",
      " 24  earliest_cr_line         39717 non-null  datetime64[ns]\n",
      " 25  inq_last_6mths           39717 non-null  int64         \n",
      " 26  mths_since_last_delinq   39717 non-null  float64       \n",
      " 27  mths_since_last_record   2786 non-null   float64       \n",
      " 28  open_acc                 39717 non-null  int64         \n",
      " 29  pub_rec                  39717 non-null  int64         \n",
      " 30  revol_bal                39717 non-null  int64         \n",
      " 31  revol_util               39717 non-null  object        \n",
      " 32  total_acc                39717 non-null  int64         \n",
      " 33  initial_list_status      39717 non-null  object        \n",
      " 34  out_prncp                39717 non-null  float64       \n",
      " 35  out_prncp_inv            39717 non-null  float64       \n",
      " 36  total_pymnt              39717 non-null  float64       \n",
      " 37  total_pymnt_inv          39717 non-null  float64       \n",
      " 38  total_rec_prncp          39717 non-null  float64       \n",
      " 39  total_rec_int            39717 non-null  float64       \n",
      " 40  total_rec_late_fee       39717 non-null  float64       \n",
      " 41  recoveries               39717 non-null  float64       \n",
      " 42  collection_recovery_fee  39717 non-null  float64       \n",
      " 43  last_pymnt_d             39646 non-null  datetime64[ns]\n",
      " 44  last_pymnt_amnt          39717 non-null  float64       \n",
      " 45  last_credit_pull_d       39715 non-null  datetime64[ns]\n",
      " 46  policy_code              39717 non-null  int64         \n",
      " 47  pub_rec_bankruptcies     39717 non-null  float64       \n",
      " 48  issue_m                  39717 non-null  object        \n",
      " 49  issue_y                  39717 non-null  int64         \n",
      " 50  earliest_cr_line_m       39717 non-null  object        \n",
      " 51  earliest_cr_line_y       39717 non-null  int64         \n",
      " 52  last_pymnt_m             39646 non-null  object        \n",
      " 53  last_pymnt_y             39646 non-null  float64       \n",
      " 54  last_credit_pull_m       39715 non-null  object        \n",
      " 55  last_credit_pull_y       39715 non-null  float64       \n",
      "dtypes: datetime64[ns](4), float64(20), int64(14), object(18)\n",
      "memory usage: 17.0+ MB\n"
     ]
    }
   ],
   "source": [
    "LoanDf.info()"
   ]
  },
  {
   "cell_type": "code",
   "execution_count": 161,
   "id": "82ed00da",
   "metadata": {},
   "outputs": [
    {
     "data": {
      "text/plain": [
       "(39717, 56)"
      ]
     },
     "execution_count": 161,
     "metadata": {},
     "output_type": "execute_result"
    }
   ],
   "source": [
    "LoanDf.shape"
   ]
  },
  {
   "cell_type": "code",
   "execution_count": null,
   "id": "505f2de1",
   "metadata": {},
   "outputs": [],
   "source": []
  }
 ],
 "metadata": {
  "kernelspec": {
   "display_name": "Python 3 (ipykernel)",
   "language": "python",
   "name": "python3"
  },
  "language_info": {
   "codemirror_mode": {
    "name": "ipython",
    "version": 3
   },
   "file_extension": ".py",
   "mimetype": "text/x-python",
   "name": "python",
   "nbconvert_exporter": "python",
   "pygments_lexer": "ipython3",
   "version": "3.9.12"
  }
 },
 "nbformat": 4,
 "nbformat_minor": 5
}
