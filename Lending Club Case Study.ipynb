{
 "cells": [
  {
   "cell_type": "markdown",
   "id": "98e0e9ba",
   "metadata": {},
   "source": [
    "# Lending Club Case Study\n",
    "\n",
    "##### This case study is to understand the driving factors (or driver variables) behind loan default, i.e. the variables which are strong indicators of default.  The company can utilise this knowledge for its portfolio and risk assessment. \n",
    "\n",
    "##### Borrowers who default cause the largest amount of loss to the lenders. In this case, the customers labelled as 'charged-off' are the 'defaulters'. \n",
    "\n",
    "##### To analyse this we have the complete loan data for all loans issued through the time period 2007 to 2011 and its Data Dictionary. "
   ]
  },
  {
   "cell_type": "markdown",
   "id": "2470ecfc",
   "metadata": {},
   "source": [
    "### 1. Import required libraries"
   ]
  },
  {
   "cell_type": "code",
   "execution_count": 1,
   "id": "d98c6a85",
   "metadata": {},
   "outputs": [],
   "source": [
    "import pandas as pd\n",
    "import numpy as np\n",
    "import matplotlib.pyplot as plt\n",
    "import seaborn as sns"
   ]
  },
  {
   "cell_type": "markdown",
   "id": "cfd46da9",
   "metadata": {},
   "source": [
    "### 2. Read data"
   ]
  },
  {
   "cell_type": "code",
   "execution_count": 2,
   "id": "2ae3a067",
   "metadata": {},
   "outputs": [
    {
     "data": {
      "text/plain": [
       "(117, 2)"
      ]
     },
     "execution_count": 2,
     "metadata": {},
     "output_type": "execute_result"
    }
   ],
   "source": [
    "# Read Data dictionary\n",
    "DataDict = pd.read_excel(\"Data_Dictionary.xlsx\")\n",
    "DataDict.shape"
   ]
  },
  {
   "cell_type": "code",
   "execution_count": 3,
   "id": "b02c25cc",
   "metadata": {},
   "outputs": [
    {
     "data": {
      "text/plain": [
       "(39717, 111)"
      ]
     },
     "execution_count": 3,
     "metadata": {},
     "output_type": "execute_result"
    }
   ],
   "source": [
    "# Read Loan data\n",
    "LoanDf = pd.read_csv(\"loan.csv\", low_memory=False)\n",
    "LoanDf.shape"
   ]
  },
  {
   "cell_type": "markdown",
   "id": "4d34edb9",
   "metadata": {},
   "source": [
    "##### Displaying first five records"
   ]
  },
  {
   "cell_type": "code",
   "execution_count": 4,
   "id": "369f136d",
   "metadata": {},
   "outputs": [
    {
     "data": {
      "text/html": [
       "<div>\n",
       "<style scoped>\n",
       "    .dataframe tbody tr th:only-of-type {\n",
       "        vertical-align: middle;\n",
       "    }\n",
       "\n",
       "    .dataframe tbody tr th {\n",
       "        vertical-align: top;\n",
       "    }\n",
       "\n",
       "    .dataframe thead th {\n",
       "        text-align: right;\n",
       "    }\n",
       "</style>\n",
       "<table border=\"1\" class=\"dataframe\">\n",
       "  <thead>\n",
       "    <tr style=\"text-align: right;\">\n",
       "      <th></th>\n",
       "      <th>id</th>\n",
       "      <th>member_id</th>\n",
       "      <th>loan_amnt</th>\n",
       "      <th>funded_amnt</th>\n",
       "      <th>funded_amnt_inv</th>\n",
       "      <th>term</th>\n",
       "      <th>int_rate</th>\n",
       "      <th>installment</th>\n",
       "      <th>grade</th>\n",
       "      <th>sub_grade</th>\n",
       "      <th>...</th>\n",
       "      <th>num_tl_90g_dpd_24m</th>\n",
       "      <th>num_tl_op_past_12m</th>\n",
       "      <th>pct_tl_nvr_dlq</th>\n",
       "      <th>percent_bc_gt_75</th>\n",
       "      <th>pub_rec_bankruptcies</th>\n",
       "      <th>tax_liens</th>\n",
       "      <th>tot_hi_cred_lim</th>\n",
       "      <th>total_bal_ex_mort</th>\n",
       "      <th>total_bc_limit</th>\n",
       "      <th>total_il_high_credit_limit</th>\n",
       "    </tr>\n",
       "  </thead>\n",
       "  <tbody>\n",
       "    <tr>\n",
       "      <th>0</th>\n",
       "      <td>1077501</td>\n",
       "      <td>1296599</td>\n",
       "      <td>5000</td>\n",
       "      <td>5000</td>\n",
       "      <td>4975.0</td>\n",
       "      <td>36 months</td>\n",
       "      <td>10.65%</td>\n",
       "      <td>162.87</td>\n",
       "      <td>B</td>\n",
       "      <td>B2</td>\n",
       "      <td>...</td>\n",
       "      <td>NaN</td>\n",
       "      <td>NaN</td>\n",
       "      <td>NaN</td>\n",
       "      <td>NaN</td>\n",
       "      <td>0.0</td>\n",
       "      <td>0.0</td>\n",
       "      <td>NaN</td>\n",
       "      <td>NaN</td>\n",
       "      <td>NaN</td>\n",
       "      <td>NaN</td>\n",
       "    </tr>\n",
       "    <tr>\n",
       "      <th>1</th>\n",
       "      <td>1077430</td>\n",
       "      <td>1314167</td>\n",
       "      <td>2500</td>\n",
       "      <td>2500</td>\n",
       "      <td>2500.0</td>\n",
       "      <td>60 months</td>\n",
       "      <td>15.27%</td>\n",
       "      <td>59.83</td>\n",
       "      <td>C</td>\n",
       "      <td>C4</td>\n",
       "      <td>...</td>\n",
       "      <td>NaN</td>\n",
       "      <td>NaN</td>\n",
       "      <td>NaN</td>\n",
       "      <td>NaN</td>\n",
       "      <td>0.0</td>\n",
       "      <td>0.0</td>\n",
       "      <td>NaN</td>\n",
       "      <td>NaN</td>\n",
       "      <td>NaN</td>\n",
       "      <td>NaN</td>\n",
       "    </tr>\n",
       "    <tr>\n",
       "      <th>2</th>\n",
       "      <td>1077175</td>\n",
       "      <td>1313524</td>\n",
       "      <td>2400</td>\n",
       "      <td>2400</td>\n",
       "      <td>2400.0</td>\n",
       "      <td>36 months</td>\n",
       "      <td>15.96%</td>\n",
       "      <td>84.33</td>\n",
       "      <td>C</td>\n",
       "      <td>C5</td>\n",
       "      <td>...</td>\n",
       "      <td>NaN</td>\n",
       "      <td>NaN</td>\n",
       "      <td>NaN</td>\n",
       "      <td>NaN</td>\n",
       "      <td>0.0</td>\n",
       "      <td>0.0</td>\n",
       "      <td>NaN</td>\n",
       "      <td>NaN</td>\n",
       "      <td>NaN</td>\n",
       "      <td>NaN</td>\n",
       "    </tr>\n",
       "    <tr>\n",
       "      <th>3</th>\n",
       "      <td>1076863</td>\n",
       "      <td>1277178</td>\n",
       "      <td>10000</td>\n",
       "      <td>10000</td>\n",
       "      <td>10000.0</td>\n",
       "      <td>36 months</td>\n",
       "      <td>13.49%</td>\n",
       "      <td>339.31</td>\n",
       "      <td>C</td>\n",
       "      <td>C1</td>\n",
       "      <td>...</td>\n",
       "      <td>NaN</td>\n",
       "      <td>NaN</td>\n",
       "      <td>NaN</td>\n",
       "      <td>NaN</td>\n",
       "      <td>0.0</td>\n",
       "      <td>0.0</td>\n",
       "      <td>NaN</td>\n",
       "      <td>NaN</td>\n",
       "      <td>NaN</td>\n",
       "      <td>NaN</td>\n",
       "    </tr>\n",
       "    <tr>\n",
       "      <th>4</th>\n",
       "      <td>1075358</td>\n",
       "      <td>1311748</td>\n",
       "      <td>3000</td>\n",
       "      <td>3000</td>\n",
       "      <td>3000.0</td>\n",
       "      <td>60 months</td>\n",
       "      <td>12.69%</td>\n",
       "      <td>67.79</td>\n",
       "      <td>B</td>\n",
       "      <td>B5</td>\n",
       "      <td>...</td>\n",
       "      <td>NaN</td>\n",
       "      <td>NaN</td>\n",
       "      <td>NaN</td>\n",
       "      <td>NaN</td>\n",
       "      <td>0.0</td>\n",
       "      <td>0.0</td>\n",
       "      <td>NaN</td>\n",
       "      <td>NaN</td>\n",
       "      <td>NaN</td>\n",
       "      <td>NaN</td>\n",
       "    </tr>\n",
       "  </tbody>\n",
       "</table>\n",
       "<p>5 rows × 111 columns</p>\n",
       "</div>"
      ],
      "text/plain": [
       "        id  member_id  loan_amnt  funded_amnt  funded_amnt_inv        term  \\\n",
       "0  1077501    1296599       5000         5000           4975.0   36 months   \n",
       "1  1077430    1314167       2500         2500           2500.0   60 months   \n",
       "2  1077175    1313524       2400         2400           2400.0   36 months   \n",
       "3  1076863    1277178      10000        10000          10000.0   36 months   \n",
       "4  1075358    1311748       3000         3000           3000.0   60 months   \n",
       "\n",
       "  int_rate  installment grade sub_grade  ... num_tl_90g_dpd_24m  \\\n",
       "0   10.65%       162.87     B        B2  ...                NaN   \n",
       "1   15.27%        59.83     C        C4  ...                NaN   \n",
       "2   15.96%        84.33     C        C5  ...                NaN   \n",
       "3   13.49%       339.31     C        C1  ...                NaN   \n",
       "4   12.69%        67.79     B        B5  ...                NaN   \n",
       "\n",
       "  num_tl_op_past_12m pct_tl_nvr_dlq  percent_bc_gt_75 pub_rec_bankruptcies  \\\n",
       "0                NaN            NaN               NaN                  0.0   \n",
       "1                NaN            NaN               NaN                  0.0   \n",
       "2                NaN            NaN               NaN                  0.0   \n",
       "3                NaN            NaN               NaN                  0.0   \n",
       "4                NaN            NaN               NaN                  0.0   \n",
       "\n",
       "  tax_liens tot_hi_cred_lim total_bal_ex_mort total_bc_limit  \\\n",
       "0       0.0             NaN               NaN            NaN   \n",
       "1       0.0             NaN               NaN            NaN   \n",
       "2       0.0             NaN               NaN            NaN   \n",
       "3       0.0             NaN               NaN            NaN   \n",
       "4       0.0             NaN               NaN            NaN   \n",
       "\n",
       "  total_il_high_credit_limit  \n",
       "0                        NaN  \n",
       "1                        NaN  \n",
       "2                        NaN  \n",
       "3                        NaN  \n",
       "4                        NaN  \n",
       "\n",
       "[5 rows x 111 columns]"
      ]
     },
     "execution_count": 4,
     "metadata": {},
     "output_type": "execute_result"
    }
   ],
   "source": [
    "LoanDf.head()"
   ]
  },
  {
   "cell_type": "markdown",
   "id": "8d91bda7",
   "metadata": {},
   "source": [
    "##### Get the information about each columns of the dataframe"
   ]
  },
  {
   "cell_type": "code",
   "execution_count": 5,
   "id": "9c97c505",
   "metadata": {},
   "outputs": [
    {
     "name": "stdout",
     "output_type": "stream",
     "text": [
      "<class 'pandas.core.frame.DataFrame'>\n",
      "RangeIndex: 39717 entries, 0 to 39716\n",
      "Data columns (total 111 columns):\n",
      " #    Column                          Non-Null Count  Dtype  \n",
      "---   ------                          --------------  -----  \n",
      " 0    id                              39717 non-null  int64  \n",
      " 1    member_id                       39717 non-null  int64  \n",
      " 2    loan_amnt                       39717 non-null  int64  \n",
      " 3    funded_amnt                     39717 non-null  int64  \n",
      " 4    funded_amnt_inv                 39717 non-null  float64\n",
      " 5    term                            39717 non-null  object \n",
      " 6    int_rate                        39717 non-null  object \n",
      " 7    installment                     39717 non-null  float64\n",
      " 8    grade                           39717 non-null  object \n",
      " 9    sub_grade                       39717 non-null  object \n",
      " 10   emp_title                       37258 non-null  object \n",
      " 11   emp_length                      38642 non-null  object \n",
      " 12   home_ownership                  39717 non-null  object \n",
      " 13   annual_inc                      39717 non-null  float64\n",
      " 14   verification_status             39717 non-null  object \n",
      " 15   issue_d                         39717 non-null  object \n",
      " 16   loan_status                     39717 non-null  object \n",
      " 17   pymnt_plan                      39717 non-null  object \n",
      " 18   url                             39717 non-null  object \n",
      " 19   desc                            26777 non-null  object \n",
      " 20   purpose                         39717 non-null  object \n",
      " 21   title                           39706 non-null  object \n",
      " 22   zip_code                        39717 non-null  object \n",
      " 23   addr_state                      39717 non-null  object \n",
      " 24   dti                             39717 non-null  float64\n",
      " 25   delinq_2yrs                     39717 non-null  int64  \n",
      " 26   earliest_cr_line                39717 non-null  object \n",
      " 27   inq_last_6mths                  39717 non-null  int64  \n",
      " 28   mths_since_last_delinq          14035 non-null  float64\n",
      " 29   mths_since_last_record          2786 non-null   float64\n",
      " 30   open_acc                        39717 non-null  int64  \n",
      " 31   pub_rec                         39717 non-null  int64  \n",
      " 32   revol_bal                       39717 non-null  int64  \n",
      " 33   revol_util                      39667 non-null  object \n",
      " 34   total_acc                       39717 non-null  int64  \n",
      " 35   initial_list_status             39717 non-null  object \n",
      " 36   out_prncp                       39717 non-null  float64\n",
      " 37   out_prncp_inv                   39717 non-null  float64\n",
      " 38   total_pymnt                     39717 non-null  float64\n",
      " 39   total_pymnt_inv                 39717 non-null  float64\n",
      " 40   total_rec_prncp                 39717 non-null  float64\n",
      " 41   total_rec_int                   39717 non-null  float64\n",
      " 42   total_rec_late_fee              39717 non-null  float64\n",
      " 43   recoveries                      39717 non-null  float64\n",
      " 44   collection_recovery_fee         39717 non-null  float64\n",
      " 45   last_pymnt_d                    39646 non-null  object \n",
      " 46   last_pymnt_amnt                 39717 non-null  float64\n",
      " 47   next_pymnt_d                    1140 non-null   object \n",
      " 48   last_credit_pull_d              39715 non-null  object \n",
      " 49   collections_12_mths_ex_med      39661 non-null  float64\n",
      " 50   mths_since_last_major_derog     0 non-null      float64\n",
      " 51   policy_code                     39717 non-null  int64  \n",
      " 52   application_type                39717 non-null  object \n",
      " 53   annual_inc_joint                0 non-null      float64\n",
      " 54   dti_joint                       0 non-null      float64\n",
      " 55   verification_status_joint       0 non-null      float64\n",
      " 56   acc_now_delinq                  39717 non-null  int64  \n",
      " 57   tot_coll_amt                    0 non-null      float64\n",
      " 58   tot_cur_bal                     0 non-null      float64\n",
      " 59   open_acc_6m                     0 non-null      float64\n",
      " 60   open_il_6m                      0 non-null      float64\n",
      " 61   open_il_12m                     0 non-null      float64\n",
      " 62   open_il_24m                     0 non-null      float64\n",
      " 63   mths_since_rcnt_il              0 non-null      float64\n",
      " 64   total_bal_il                    0 non-null      float64\n",
      " 65   il_util                         0 non-null      float64\n",
      " 66   open_rv_12m                     0 non-null      float64\n",
      " 67   open_rv_24m                     0 non-null      float64\n",
      " 68   max_bal_bc                      0 non-null      float64\n",
      " 69   all_util                        0 non-null      float64\n",
      " 70   total_rev_hi_lim                0 non-null      float64\n",
      " 71   inq_fi                          0 non-null      float64\n",
      " 72   total_cu_tl                     0 non-null      float64\n",
      " 73   inq_last_12m                    0 non-null      float64\n",
      " 74   acc_open_past_24mths            0 non-null      float64\n",
      " 75   avg_cur_bal                     0 non-null      float64\n",
      " 76   bc_open_to_buy                  0 non-null      float64\n",
      " 77   bc_util                         0 non-null      float64\n",
      " 78   chargeoff_within_12_mths        39661 non-null  float64\n",
      " 79   delinq_amnt                     39717 non-null  int64  \n",
      " 80   mo_sin_old_il_acct              0 non-null      float64\n",
      " 81   mo_sin_old_rev_tl_op            0 non-null      float64\n",
      " 82   mo_sin_rcnt_rev_tl_op           0 non-null      float64\n",
      " 83   mo_sin_rcnt_tl                  0 non-null      float64\n",
      " 84   mort_acc                        0 non-null      float64\n",
      " 85   mths_since_recent_bc            0 non-null      float64\n",
      " 86   mths_since_recent_bc_dlq        0 non-null      float64\n",
      " 87   mths_since_recent_inq           0 non-null      float64\n",
      " 88   mths_since_recent_revol_delinq  0 non-null      float64\n",
      " 89   num_accts_ever_120_pd           0 non-null      float64\n",
      " 90   num_actv_bc_tl                  0 non-null      float64\n",
      " 91   num_actv_rev_tl                 0 non-null      float64\n",
      " 92   num_bc_sats                     0 non-null      float64\n",
      " 93   num_bc_tl                       0 non-null      float64\n",
      " 94   num_il_tl                       0 non-null      float64\n",
      " 95   num_op_rev_tl                   0 non-null      float64\n",
      " 96   num_rev_accts                   0 non-null      float64\n",
      " 97   num_rev_tl_bal_gt_0             0 non-null      float64\n",
      " 98   num_sats                        0 non-null      float64\n",
      " 99   num_tl_120dpd_2m                0 non-null      float64\n",
      " 100  num_tl_30dpd                    0 non-null      float64\n",
      " 101  num_tl_90g_dpd_24m              0 non-null      float64\n",
      " 102  num_tl_op_past_12m              0 non-null      float64\n",
      " 103  pct_tl_nvr_dlq                  0 non-null      float64\n",
      " 104  percent_bc_gt_75                0 non-null      float64\n",
      " 105  pub_rec_bankruptcies            39020 non-null  float64\n",
      " 106  tax_liens                       39678 non-null  float64\n",
      " 107  tot_hi_cred_lim                 0 non-null      float64\n",
      " 108  total_bal_ex_mort               0 non-null      float64\n",
      " 109  total_bc_limit                  0 non-null      float64\n",
      " 110  total_il_high_credit_limit      0 non-null      float64\n",
      "dtypes: float64(74), int64(13), object(24)\n",
      "memory usage: 33.6+ MB\n"
     ]
    }
   ],
   "source": [
    "LoanDf.info(verbose=True,show_counts=True)\n",
    "\n",
    "# Observation\n",
    "# We see that there are many columns with complete null values like \"tot_coll_amt\", \"tot_cur_bal\" etc\n",
    "# We also see that there are three types of columns\n",
    "# 1. Demographic variables like \"emp_length\", \"annual_inc\" etc\n",
    "# 2. Loan characteristics variables like \"int_rate\", \"loan_status\" etc\n",
    "# 3. Customer behavior variables like \"total_acc\", \"total_pymnt\" etc"
   ]
  },
  {
   "cell_type": "markdown",
   "id": "3ed4abd2",
   "metadata": {},
   "source": [
    "### 3. Data cleaning"
   ]
  },
  {
   "cell_type": "markdown",
   "id": "f5dd20a9",
   "metadata": {},
   "source": [
    "##### Find columns which has only null values and drop them"
   ]
  },
  {
   "cell_type": "code",
   "execution_count": 6,
   "id": "4fe03d9c",
   "metadata": {},
   "outputs": [
    {
     "name": "stdout",
     "output_type": "stream",
     "text": [
      "Number of columns which has no values =  54\n",
      "Columns with Null values \n",
      " ['mths_since_last_major_derog', 'annual_inc_joint', 'dti_joint', 'verification_status_joint', 'tot_coll_amt', 'tot_cur_bal', 'open_acc_6m', 'open_il_6m', 'open_il_12m', 'open_il_24m', 'mths_since_rcnt_il', 'total_bal_il', 'il_util', 'open_rv_12m', 'open_rv_24m', 'max_bal_bc', 'all_util', 'total_rev_hi_lim', 'inq_fi', 'total_cu_tl', 'inq_last_12m', 'acc_open_past_24mths', 'avg_cur_bal', 'bc_open_to_buy', 'bc_util', 'mo_sin_old_il_acct', 'mo_sin_old_rev_tl_op', 'mo_sin_rcnt_rev_tl_op', 'mo_sin_rcnt_tl', 'mort_acc', 'mths_since_recent_bc', 'mths_since_recent_bc_dlq', 'mths_since_recent_inq', 'mths_since_recent_revol_delinq', 'num_accts_ever_120_pd', 'num_actv_bc_tl', 'num_actv_rev_tl', 'num_bc_sats', 'num_bc_tl', 'num_il_tl', 'num_op_rev_tl', 'num_rev_accts', 'num_rev_tl_bal_gt_0', 'num_sats', 'num_tl_120dpd_2m', 'num_tl_30dpd', 'num_tl_90g_dpd_24m', 'num_tl_op_past_12m', 'pct_tl_nvr_dlq', 'percent_bc_gt_75', 'tot_hi_cred_lim', 'total_bal_ex_mort', 'total_bc_limit', 'total_il_high_credit_limit']\n",
      "(39717, 57)\n"
     ]
    }
   ],
   "source": [
    "col_with_no_val = list(LoanDf.columns[LoanDf.isnull().all()])\n",
    "print(\"Number of columns which has no values = \",len(col_with_no_val))\n",
    "print(\"Columns with Null values \\n\",col_with_no_val)\n",
    "\n",
    "LoanDf.drop(columns=col_with_no_val, inplace=True)\n",
    "print(LoanDf.shape)"
   ]
  },
  {
   "cell_type": "markdown",
   "id": "f59c1419",
   "metadata": {},
   "source": [
    "##### Find the percentage of null values in each column"
   ]
  },
  {
   "cell_type": "code",
   "execution_count": 43,
   "id": "6df81bc0",
   "metadata": {},
   "outputs": [
    {
     "data": {
      "text/plain": [
       "id                          0.000000\n",
       "member_id                   0.000000\n",
       "loan_amnt                   0.000000\n",
       "funded_amnt                 0.000000\n",
       "funded_amnt_inv             0.000000\n",
       "term                        0.000000\n",
       "int_rate                    0.000000\n",
       "installment                 0.000000\n",
       "grade                       0.000000\n",
       "sub_grade                   0.000000\n",
       "emp_title                   6.191303\n",
       "emp_length                  0.000000\n",
       "home_ownership              0.000000\n",
       "annual_inc                  0.000000\n",
       "verification_status         0.000000\n",
       "issue_d                     0.000000\n",
       "loan_status                 0.000000\n",
       "desc                       32.580507\n",
       "purpose                     0.000000\n",
       "title                       0.027696\n",
       "zip_code                    0.000000\n",
       "addr_state                  0.000000\n",
       "dti                         0.000000\n",
       "delinq_2yrs                 0.000000\n",
       "earliest_cr_line            0.000000\n",
       "inq_last_6mths              0.000000\n",
       "mths_since_last_delinq     64.662487\n",
       "open_acc                    0.000000\n",
       "pub_rec                     0.000000\n",
       "revol_bal                   0.000000\n",
       "revol_util                  0.125891\n",
       "total_acc                   0.000000\n",
       "initial_list_status         0.000000\n",
       "out_prncp                   0.000000\n",
       "out_prncp_inv               0.000000\n",
       "total_pymnt                 0.000000\n",
       "total_pymnt_inv             0.000000\n",
       "total_rec_prncp             0.000000\n",
       "total_rec_int               0.000000\n",
       "total_rec_late_fee          0.000000\n",
       "recoveries                  0.000000\n",
       "collection_recovery_fee     0.000000\n",
       "last_pymnt_d                0.178765\n",
       "last_pymnt_amnt             0.000000\n",
       "last_credit_pull_d          0.005036\n",
       "policy_code                 0.000000\n",
       "application_type            0.000000\n",
       "pub_rec_bankruptcies        0.000000\n",
       "issue_m                     0.000000\n",
       "issue_y                     0.000000\n",
       "dtype: float64"
      ]
     },
     "execution_count": 43,
     "metadata": {},
     "output_type": "execute_result"
    }
   ],
   "source": [
    "LoanDf.isna().sum() / LoanDf.shape[0] * 100"
   ]
  },
  {
   "cell_type": "markdown",
   "id": "b746577b",
   "metadata": {},
   "source": [
    "##### Find columns with more than 90% null values and drop them"
   ]
  },
  {
   "cell_type": "code",
   "execution_count": 8,
   "id": "81636ebf",
   "metadata": {},
   "outputs": [
    {
     "name": "stdout",
     "output_type": "stream",
     "text": [
      "               LoanStatNew                                        Description\n",
      "52  mths_since_last_record  The number of months since the last public rec...\n",
      "58            next_pymnt_d                        Next scheduled payment date\n",
      "(39717, 55)\n"
     ]
    }
   ],
   "source": [
    "col_with_90_per_no_val = list(LoanDf.columns[LoanDf.isnull().sum() / len(LoanDf) * 100 > 90])\n",
    "print(DataDict[DataDict[\"LoanStatNew\"].isin(col_with_90_per_no_val)])\n",
    "\n",
    "LoanDf.drop(columns=col_with_90_per_no_val, inplace=True)\n",
    "print(LoanDf.shape)"
   ]
  },
  {
   "cell_type": "markdown",
   "id": "14dda997",
   "metadata": {},
   "source": [
    "##### Drop columns with Customer Behaviour variables"
   ]
  },
  {
   "cell_type": "code",
   "execution_count": null,
   "id": "c053ad2e",
   "metadata": {},
   "outputs": [],
   "source": []
  },
  {
   "cell_type": "code",
   "execution_count": null,
   "id": "b87a5e55",
   "metadata": {},
   "outputs": [],
   "source": []
  },
  {
   "cell_type": "code",
   "execution_count": null,
   "id": "3a4f6121",
   "metadata": {},
   "outputs": [],
   "source": []
  },
  {
   "cell_type": "markdown",
   "id": "384e3e2e",
   "metadata": {},
   "source": [
    "##### Drop additional columns which do not add value to our analysis"
   ]
  },
  {
   "cell_type": "code",
   "execution_count": 9,
   "id": "d59a4196",
   "metadata": {},
   "outputs": [
    {
     "data": {
      "text/plain": [
       "(39717, 54)"
      ]
     },
     "execution_count": 9,
     "metadata": {},
     "output_type": "execute_result"
    }
   ],
   "source": [
    "# Column \"pymnt_plan\"\n",
    "LoanDf[\"pymnt_plan\"].value_counts()\n",
    "\n",
    "# It has only one value i.e \"n\". Hence it can be dropped\n",
    "LoanDf.drop(columns=\"pymnt_plan\", inplace=True)\n",
    "LoanDf.shape"
   ]
  },
  {
   "cell_type": "code",
   "execution_count": 10,
   "id": "7dccc9da",
   "metadata": {},
   "outputs": [
    {
     "data": {
      "text/plain": [
       "(39717, 53)"
      ]
     },
     "execution_count": 10,
     "metadata": {},
     "output_type": "execute_result"
    }
   ],
   "source": [
    "# Column \"url\"\n",
    "LoanDf[\"url\"].head()\n",
    "\n",
    "# It does not have any valuable information for our analysis. Hence can be dropped\n",
    "LoanDf.drop(columns=\"url\", inplace=True)\n",
    "LoanDf.shape"
   ]
  },
  {
   "cell_type": "code",
   "execution_count": 11,
   "id": "a9d05288",
   "metadata": {},
   "outputs": [
    {
     "data": {
      "text/plain": [
       "(39717, 52)"
      ]
     },
     "execution_count": 11,
     "metadata": {},
     "output_type": "execute_result"
    }
   ],
   "source": [
    "# Column \"collections_12_mths_ex_med\"\n",
    "LoanDf[\"collections_12_mths_ex_med\"].value_counts()\n",
    "\n",
    "# It has only one value i.e \"0\". Hence it can be dropped\n",
    "LoanDf.drop(columns=\"collections_12_mths_ex_med\", inplace=True)\n",
    "LoanDf.shape"
   ]
  },
  {
   "cell_type": "code",
   "execution_count": 12,
   "id": "afcd1b34",
   "metadata": {},
   "outputs": [
    {
     "data": {
      "text/plain": [
       "(39717, 51)"
      ]
     },
     "execution_count": 12,
     "metadata": {},
     "output_type": "execute_result"
    }
   ],
   "source": [
    "# Column \"acc_now_delinq\"\n",
    "LoanDf[\"acc_now_delinq\"].value_counts()\n",
    "\n",
    "# It has only one value i.e \"0\". Hence it can be dropped\n",
    "LoanDf.drop(columns=\"acc_now_delinq\", inplace=True)\n",
    "LoanDf.shape"
   ]
  },
  {
   "cell_type": "code",
   "execution_count": 13,
   "id": "d2cac225",
   "metadata": {},
   "outputs": [
    {
     "data": {
      "text/plain": [
       "(39717, 50)"
      ]
     },
     "execution_count": 13,
     "metadata": {},
     "output_type": "execute_result"
    }
   ],
   "source": [
    "# Column \"chargeoff_within_12_mths\"\n",
    "LoanDf[\"chargeoff_within_12_mths\"].value_counts()\n",
    "\n",
    "# It has only one value i.e \"0\". Hence it can be dropped\n",
    "LoanDf.drop(columns=\"chargeoff_within_12_mths\", inplace=True)\n",
    "LoanDf.shape"
   ]
  },
  {
   "cell_type": "code",
   "execution_count": 14,
   "id": "2eabe0bf",
   "metadata": {},
   "outputs": [
    {
     "data": {
      "text/plain": [
       "(39717, 49)"
      ]
     },
     "execution_count": 14,
     "metadata": {},
     "output_type": "execute_result"
    }
   ],
   "source": [
    "# Column \"delinq_amnt\"\n",
    "LoanDf[\"delinq_amnt\"].value_counts()\n",
    "\n",
    "# It has only value \"0\". Hence it can be dropped\n",
    "LoanDf.drop(columns=\"delinq_amnt\", inplace=True)\n",
    "LoanDf.shape"
   ]
  },
  {
   "cell_type": "code",
   "execution_count": 15,
   "id": "60247b11",
   "metadata": {},
   "outputs": [
    {
     "data": {
      "text/plain": [
       "(39717, 48)"
      ]
     },
     "execution_count": 15,
     "metadata": {},
     "output_type": "execute_result"
    }
   ],
   "source": [
    "# Column \"tax_liens\"\n",
    "LoanDf[\"tax_liens\"].value_counts()\n",
    "\n",
    "# It has only one value i.e \"0\". Hence it can be dropped\n",
    "LoanDf.drop(columns=\"tax_liens\", inplace=True)\n",
    "LoanDf.shape"
   ]
  },
  {
   "cell_type": "code",
   "execution_count": null,
   "id": "b0cbe051",
   "metadata": {},
   "outputs": [],
   "source": []
  },
  {
   "cell_type": "code",
   "execution_count": null,
   "id": "fa942ca3",
   "metadata": {},
   "outputs": [],
   "source": []
  },
  {
   "cell_type": "markdown",
   "id": "d12166d7",
   "metadata": {},
   "source": [
    "##### Fill partial missing values using business judgement"
   ]
  },
  {
   "cell_type": "code",
   "execution_count": 16,
   "id": "60386e49",
   "metadata": {},
   "outputs": [
    {
     "name": "stdout",
     "output_type": "stream",
     "text": [
      "<class 'pandas.core.frame.DataFrame'>\n",
      "RangeIndex: 39717 entries, 0 to 39716\n",
      "Data columns (total 48 columns):\n",
      " #   Column                   Non-Null Count  Dtype  \n",
      "---  ------                   --------------  -----  \n",
      " 0   id                       39717 non-null  int64  \n",
      " 1   member_id                39717 non-null  int64  \n",
      " 2   loan_amnt                39717 non-null  int64  \n",
      " 3   funded_amnt              39717 non-null  int64  \n",
      " 4   funded_amnt_inv          39717 non-null  float64\n",
      " 5   term                     39717 non-null  object \n",
      " 6   int_rate                 39717 non-null  object \n",
      " 7   installment              39717 non-null  float64\n",
      " 8   grade                    39717 non-null  object \n",
      " 9   sub_grade                39717 non-null  object \n",
      " 10  emp_title                37258 non-null  object \n",
      " 11  emp_length               38642 non-null  object \n",
      " 12  home_ownership           39717 non-null  object \n",
      " 13  annual_inc               39717 non-null  float64\n",
      " 14  verification_status      39717 non-null  object \n",
      " 15  issue_d                  39717 non-null  object \n",
      " 16  loan_status              39717 non-null  object \n",
      " 17  desc                     26777 non-null  object \n",
      " 18  purpose                  39717 non-null  object \n",
      " 19  title                    39706 non-null  object \n",
      " 20  zip_code                 39717 non-null  object \n",
      " 21  addr_state               39717 non-null  object \n",
      " 22  dti                      39717 non-null  float64\n",
      " 23  delinq_2yrs              39717 non-null  int64  \n",
      " 24  earliest_cr_line         39717 non-null  object \n",
      " 25  inq_last_6mths           39717 non-null  int64  \n",
      " 26  mths_since_last_delinq   14035 non-null  float64\n",
      " 27  open_acc                 39717 non-null  int64  \n",
      " 28  pub_rec                  39717 non-null  int64  \n",
      " 29  revol_bal                39717 non-null  int64  \n",
      " 30  revol_util               39667 non-null  object \n",
      " 31  total_acc                39717 non-null  int64  \n",
      " 32  initial_list_status      39717 non-null  object \n",
      " 33  out_prncp                39717 non-null  float64\n",
      " 34  out_prncp_inv            39717 non-null  float64\n",
      " 35  total_pymnt              39717 non-null  float64\n",
      " 36  total_pymnt_inv          39717 non-null  float64\n",
      " 37  total_rec_prncp          39717 non-null  float64\n",
      " 38  total_rec_int            39717 non-null  float64\n",
      " 39  total_rec_late_fee       39717 non-null  float64\n",
      " 40  recoveries               39717 non-null  float64\n",
      " 41  collection_recovery_fee  39717 non-null  float64\n",
      " 42  last_pymnt_d             39646 non-null  object \n",
      " 43  last_pymnt_amnt          39717 non-null  float64\n",
      " 44  last_credit_pull_d       39715 non-null  object \n",
      " 45  policy_code              39717 non-null  int64  \n",
      " 46  application_type         39717 non-null  object \n",
      " 47  pub_rec_bankruptcies     39020 non-null  float64\n",
      "dtypes: float64(16), int64(11), object(21)\n",
      "memory usage: 14.5+ MB\n"
     ]
    }
   ],
   "source": [
    "# Determine which all columns have Null values\n",
    "LoanDf.info()"
   ]
  },
  {
   "cell_type": "code",
   "execution_count": 17,
   "id": "c654b91a",
   "metadata": {},
   "outputs": [
    {
     "data": {
      "text/plain": [
       "1075"
      ]
     },
     "execution_count": 17,
     "metadata": {},
     "output_type": "execute_result"
    }
   ],
   "source": [
    "# Find number of empty values in column \"emp_length\"\n",
    "LoanDf[\"emp_length\"].isnull().sum()"
   ]
  },
  {
   "cell_type": "code",
   "execution_count": 18,
   "id": "34226b7c",
   "metadata": {},
   "outputs": [
    {
     "data": {
      "text/plain": [
       "10+ years    8879\n",
       "< 1 year     4583\n",
       "2 years      4388\n",
       "3 years      4095\n",
       "4 years      3436\n",
       "5 years      3282\n",
       "1 year       3240\n",
       "6 years      2229\n",
       "7 years      1773\n",
       "8 years      1479\n",
       "9 years      1258\n",
       "Name: emp_length, dtype: int64"
      ]
     },
     "execution_count": 18,
     "metadata": {},
     "output_type": "execute_result"
    }
   ],
   "source": [
    "# Find values in in column \"emp_length\"\n",
    "LoanDf[\"emp_length\"].value_counts()"
   ]
  },
  {
   "cell_type": "code",
   "execution_count": 48,
   "id": "bceafa61",
   "metadata": {},
   "outputs": [
    {
     "data": {
      "text/plain": [
       "0    10\n",
       "1     1\n",
       "2    10\n",
       "3    10\n",
       "4     1\n",
       "Name: emp_length, dtype: int32"
      ]
     },
     "execution_count": 48,
     "metadata": {},
     "output_type": "execute_result"
    }
   ],
   "source": [
    "# Our assumption of emp_length being Null is that may be these borrowers are unemployed.\n",
    "# Hence we will be replacing the Nulls with zero years\n",
    "LoanDf[\"emp_length\"].fillna(\"0 years\",inplace=True)\n",
    "LoanDf[\"emp_length\"].head()"
   ]
  },
  {
   "cell_type": "code",
   "execution_count": 49,
   "id": "d4fe56d9",
   "metadata": {},
   "outputs": [
    {
     "data": {
      "text/plain": [
       "0    0.0\n",
       "1    0.0\n",
       "2    0.0\n",
       "3    0.0\n",
       "4    0.0\n",
       "Name: pub_rec_bankruptcies, dtype: float64"
      ]
     },
     "execution_count": 49,
     "metadata": {},
     "output_type": "execute_result"
    }
   ],
   "source": [
    "# Find number of empty values in column \"pub_rec_bankruptcies\"\n",
    "LoanDf[\"pub_rec_bankruptcies\"].isnull().sum()"
   ]
  },
  {
   "cell_type": "code",
   "execution_count": 21,
   "id": "79840a46",
   "metadata": {},
   "outputs": [
    {
     "data": {
      "text/plain": [
       "0.0    37339\n",
       "1.0     1674\n",
       "2.0        7\n",
       "Name: pub_rec_bankruptcies, dtype: int64"
      ]
     },
     "execution_count": 21,
     "metadata": {},
     "output_type": "execute_result"
    }
   ],
   "source": [
    "# Find values in in column \"pub_rec_bankruptcies\"\n",
    "LoanDf[\"pub_rec_bankruptcies\"].value_counts()"
   ]
  },
  {
   "cell_type": "code",
   "execution_count": 50,
   "id": "da40e52f",
   "metadata": {},
   "outputs": [
    {
     "data": {
      "text/plain": [
       "0    0.0\n",
       "1    0.0\n",
       "2    0.0\n",
       "3    0.0\n",
       "4    0.0\n",
       "Name: pub_rec_bankruptcies, dtype: float64"
      ]
     },
     "execution_count": 50,
     "metadata": {},
     "output_type": "execute_result"
    }
   ],
   "source": [
    "# Majority of values is \"0\". Hence we will be replacing the Nulls with \"0\"\n",
    "LoanDf[\"pub_rec_bankruptcies\"].fillna(0,inplace=True)\n",
    "LoanDf[\"pub_rec_bankruptcies\"].head()"
   ]
  },
  {
   "cell_type": "code",
   "execution_count": null,
   "id": "f7cdbd13",
   "metadata": {},
   "outputs": [],
   "source": []
  },
  {
   "cell_type": "code",
   "execution_count": null,
   "id": "be1f2c7e",
   "metadata": {},
   "outputs": [],
   "source": []
  },
  {
   "cell_type": "markdown",
   "id": "69c36595",
   "metadata": {},
   "source": [
    "##### Convert incorrect data types of columns"
   ]
  },
  {
   "cell_type": "code",
   "execution_count": 23,
   "id": "aa16368f",
   "metadata": {},
   "outputs": [
    {
     "data": {
      "text/plain": [
       "36    29096\n",
       "60    10621\n",
       "Name: term, dtype: int64"
      ]
     },
     "execution_count": 23,
     "metadata": {},
     "output_type": "execute_result"
    }
   ],
   "source": [
    "# Convert the column \"term\" to int by removing the suffix \"months\"\n",
    "LoanDf[\"term\"] = LoanDf.term.apply(lambda x: x.rstrip(\"months\")).astype(\"int\")\n",
    "LoanDf[\"term\"].value_counts()"
   ]
  },
  {
   "cell_type": "code",
   "execution_count": 24,
   "id": "202a195b",
   "metadata": {},
   "outputs": [
    {
     "data": {
      "text/plain": [
       "count    39717.000000\n",
       "mean        12.021177\n",
       "std          3.724825\n",
       "min          5.420000\n",
       "25%          9.250000\n",
       "50%         11.860000\n",
       "75%         14.590000\n",
       "max         24.590000\n",
       "Name: int_rate, dtype: float64"
      ]
     },
     "execution_count": 24,
     "metadata": {},
     "output_type": "execute_result"
    }
   ],
   "source": [
    "# Convert the column \"int_rate\" to float by removing the suffix \"%\"\"\n",
    "LoanDf[\"int_rate\"] = LoanDf.int_rate.apply(lambda x: x.rstrip(\"%\")).astype(\"float\")\n",
    "LoanDf[\"int_rate\"].describe()"
   ]
  },
  {
   "cell_type": "code",
   "execution_count": 25,
   "id": "31361472",
   "metadata": {},
   "outputs": [
    {
     "data": {
      "text/plain": [
       "count    39717.000000\n",
       "mean         4.954226\n",
       "std          3.461960\n",
       "min          0.000000\n",
       "25%          2.000000\n",
       "50%          4.000000\n",
       "75%          9.000000\n",
       "max         10.000000\n",
       "Name: emp_length, dtype: float64"
      ]
     },
     "execution_count": 25,
     "metadata": {},
     "output_type": "execute_result"
    }
   ],
   "source": [
    "# Convert the column \"emp_length\" to int by removing the suffix \"+ years\" and prefix \"<\"\n",
    "LoanDf[\"emp_length\"] = LoanDf[\"emp_length\"].apply(lambda x: x.rstrip(\"+ years\").lstrip(\"<\")).astype(\"int\")\n",
    "LoanDf[\"emp_length\"].describe()"
   ]
  },
  {
   "cell_type": "code",
   "execution_count": null,
   "id": "6eca4bc7",
   "metadata": {},
   "outputs": [],
   "source": []
  },
  {
   "cell_type": "code",
   "execution_count": null,
   "id": "3ff76325",
   "metadata": {},
   "outputs": [],
   "source": []
  },
  {
   "cell_type": "markdown",
   "id": "3d7195da",
   "metadata": {},
   "source": [
    "### Remove outliers"
   ]
  },
  {
   "cell_type": "code",
   "execution_count": null,
   "id": "3f1017e4",
   "metadata": {},
   "outputs": [],
   "source": []
  },
  {
   "cell_type": "code",
   "execution_count": null,
   "id": "6ab5123b",
   "metadata": {},
   "outputs": [],
   "source": []
  },
  {
   "cell_type": "code",
   "execution_count": null,
   "id": "0bfab878",
   "metadata": {},
   "outputs": [],
   "source": []
  },
  {
   "cell_type": "markdown",
   "id": "bd2f2b97",
   "metadata": {},
   "source": [
    "### Derived Metrics"
   ]
  },
  {
   "cell_type": "code",
   "execution_count": 26,
   "id": "e814f099",
   "metadata": {},
   "outputs": [
    {
     "data": {
      "text/html": [
       "<div>\n",
       "<style scoped>\n",
       "    .dataframe tbody tr th:only-of-type {\n",
       "        vertical-align: middle;\n",
       "    }\n",
       "\n",
       "    .dataframe tbody tr th {\n",
       "        vertical-align: top;\n",
       "    }\n",
       "\n",
       "    .dataframe thead th {\n",
       "        text-align: right;\n",
       "    }\n",
       "</style>\n",
       "<table border=\"1\" class=\"dataframe\">\n",
       "  <thead>\n",
       "    <tr style=\"text-align: right;\">\n",
       "      <th></th>\n",
       "      <th>issue_d</th>\n",
       "      <th>issue_m</th>\n",
       "      <th>issue_y</th>\n",
       "    </tr>\n",
       "  </thead>\n",
       "  <tbody>\n",
       "    <tr>\n",
       "      <th>0</th>\n",
       "      <td>2011-12-01</td>\n",
       "      <td>Dec</td>\n",
       "      <td>2011</td>\n",
       "    </tr>\n",
       "    <tr>\n",
       "      <th>1</th>\n",
       "      <td>2011-12-01</td>\n",
       "      <td>Dec</td>\n",
       "      <td>2011</td>\n",
       "    </tr>\n",
       "    <tr>\n",
       "      <th>2</th>\n",
       "      <td>2011-12-01</td>\n",
       "      <td>Dec</td>\n",
       "      <td>2011</td>\n",
       "    </tr>\n",
       "    <tr>\n",
       "      <th>3</th>\n",
       "      <td>2011-12-01</td>\n",
       "      <td>Dec</td>\n",
       "      <td>2011</td>\n",
       "    </tr>\n",
       "    <tr>\n",
       "      <th>4</th>\n",
       "      <td>2011-12-01</td>\n",
       "      <td>Dec</td>\n",
       "      <td>2011</td>\n",
       "    </tr>\n",
       "  </tbody>\n",
       "</table>\n",
       "</div>"
      ],
      "text/plain": [
       "     issue_d issue_m  issue_y\n",
       "0 2011-12-01     Dec     2011\n",
       "1 2011-12-01     Dec     2011\n",
       "2 2011-12-01     Dec     2011\n",
       "3 2011-12-01     Dec     2011\n",
       "4 2011-12-01     Dec     2011"
      ]
     },
     "execution_count": 26,
     "metadata": {},
     "output_type": "execute_result"
    }
   ],
   "source": [
    "# Column \"issue_d\" is a date column which can be splitted into month and year\n",
    "LoanDf[\"issue_d\"] = pd.to_datetime(LoanDf[\"issue_d\"],format=\"%b-%y\")\n",
    "LoanDf[\"issue_m\"] = LoanDf['issue_d'].dt.month_name().str[:3]\n",
    "LoanDf[\"issue_y\"] = LoanDf['issue_d'].dt.year\n",
    "\n",
    "LoanDf[[\"issue_d\",\"issue_m\",\"issue_y\"]].head()"
   ]
  },
  {
   "cell_type": "code",
   "execution_count": null,
   "id": "370d6840",
   "metadata": {},
   "outputs": [],
   "source": []
  },
  {
   "cell_type": "code",
   "execution_count": null,
   "id": "eb007062",
   "metadata": {},
   "outputs": [],
   "source": []
  },
  {
   "cell_type": "markdown",
   "id": "505f2de1",
   "metadata": {},
   "source": [
    "### 4. Sanity Check"
   ]
  },
  {
   "cell_type": "code",
   "execution_count": 27,
   "id": "bf5e9c0d",
   "metadata": {},
   "outputs": [
    {
     "data": {
      "text/html": [
       "<div>\n",
       "<style scoped>\n",
       "    .dataframe tbody tr th:only-of-type {\n",
       "        vertical-align: middle;\n",
       "    }\n",
       "\n",
       "    .dataframe tbody tr th {\n",
       "        vertical-align: top;\n",
       "    }\n",
       "\n",
       "    .dataframe thead th {\n",
       "        text-align: right;\n",
       "    }\n",
       "</style>\n",
       "<table border=\"1\" class=\"dataframe\">\n",
       "  <thead>\n",
       "    <tr style=\"text-align: right;\">\n",
       "      <th></th>\n",
       "      <th>id</th>\n",
       "      <th>member_id</th>\n",
       "      <th>loan_amnt</th>\n",
       "      <th>funded_amnt</th>\n",
       "      <th>funded_amnt_inv</th>\n",
       "      <th>term</th>\n",
       "      <th>int_rate</th>\n",
       "      <th>installment</th>\n",
       "      <th>grade</th>\n",
       "      <th>sub_grade</th>\n",
       "      <th>...</th>\n",
       "      <th>recoveries</th>\n",
       "      <th>collection_recovery_fee</th>\n",
       "      <th>last_pymnt_d</th>\n",
       "      <th>last_pymnt_amnt</th>\n",
       "      <th>last_credit_pull_d</th>\n",
       "      <th>policy_code</th>\n",
       "      <th>application_type</th>\n",
       "      <th>pub_rec_bankruptcies</th>\n",
       "      <th>issue_m</th>\n",
       "      <th>issue_y</th>\n",
       "    </tr>\n",
       "  </thead>\n",
       "  <tbody>\n",
       "  </tbody>\n",
       "</table>\n",
       "<p>0 rows × 50 columns</p>\n",
       "</div>"
      ],
      "text/plain": [
       "Empty DataFrame\n",
       "Columns: [id, member_id, loan_amnt, funded_amnt, funded_amnt_inv, term, int_rate, installment, grade, sub_grade, emp_title, emp_length, home_ownership, annual_inc, verification_status, issue_d, loan_status, desc, purpose, title, zip_code, addr_state, dti, delinq_2yrs, earliest_cr_line, inq_last_6mths, mths_since_last_delinq, open_acc, pub_rec, revol_bal, revol_util, total_acc, initial_list_status, out_prncp, out_prncp_inv, total_pymnt, total_pymnt_inv, total_rec_prncp, total_rec_int, total_rec_late_fee, recoveries, collection_recovery_fee, last_pymnt_d, last_pymnt_amnt, last_credit_pull_d, policy_code, application_type, pub_rec_bankruptcies, issue_m, issue_y]\n",
       "Index: []\n",
       "\n",
       "[0 rows x 50 columns]"
      ]
     },
     "execution_count": 27,
     "metadata": {},
     "output_type": "execute_result"
    }
   ],
   "source": [
    "# Funded amount or Funded amount investment should not be greater than Loan amount\n",
    "\n",
    "LoanDf[(LoanDf[\"funded_amnt\"] > LoanDf[\"loan_amnt\"]) | (LoanDf[\"funded_amnt_inv\"] > LoanDf[\"loan_amnt\"])]\n",
    "\n",
    "# Observation\n",
    "# There are no such records"
   ]
  },
  {
   "cell_type": "code",
   "execution_count": 28,
   "id": "17288e4e",
   "metadata": {},
   "outputs": [
    {
     "data": {
      "text/plain": [
       "count    39717.000000\n",
       "mean        12.021177\n",
       "std          3.724825\n",
       "min          5.420000\n",
       "25%          9.250000\n",
       "50%         11.860000\n",
       "75%         14.590000\n",
       "max         24.590000\n",
       "Name: int_rate, dtype: float64"
      ]
     },
     "execution_count": 28,
     "metadata": {},
     "output_type": "execute_result"
    }
   ],
   "source": [
    "# Interest rate should not have any negative, zero or extremely high values\n",
    "\n",
    "LoanDf[\"int_rate\"].describe()\n",
    "\n",
    "# Observation\n",
    "# The min interest rate is 5.42% and max interest rate is 24.59 which looks legitimate"
   ]
  },
  {
   "cell_type": "code",
   "execution_count": 29,
   "id": "722ea72f",
   "metadata": {},
   "outputs": [
    {
     "data": {
      "text/html": [
       "<div>\n",
       "<style scoped>\n",
       "    .dataframe tbody tr th:only-of-type {\n",
       "        vertical-align: middle;\n",
       "    }\n",
       "\n",
       "    .dataframe tbody tr th {\n",
       "        vertical-align: top;\n",
       "    }\n",
       "\n",
       "    .dataframe thead th {\n",
       "        text-align: right;\n",
       "    }\n",
       "</style>\n",
       "<table border=\"1\" class=\"dataframe\">\n",
       "  <thead>\n",
       "    <tr style=\"text-align: right;\">\n",
       "      <th></th>\n",
       "      <th>id</th>\n",
       "      <th>member_id</th>\n",
       "      <th>loan_amnt</th>\n",
       "      <th>funded_amnt</th>\n",
       "      <th>funded_amnt_inv</th>\n",
       "      <th>term</th>\n",
       "      <th>int_rate</th>\n",
       "      <th>installment</th>\n",
       "      <th>grade</th>\n",
       "      <th>sub_grade</th>\n",
       "      <th>...</th>\n",
       "      <th>recoveries</th>\n",
       "      <th>collection_recovery_fee</th>\n",
       "      <th>last_pymnt_d</th>\n",
       "      <th>last_pymnt_amnt</th>\n",
       "      <th>last_credit_pull_d</th>\n",
       "      <th>policy_code</th>\n",
       "      <th>application_type</th>\n",
       "      <th>pub_rec_bankruptcies</th>\n",
       "      <th>issue_m</th>\n",
       "      <th>issue_y</th>\n",
       "    </tr>\n",
       "  </thead>\n",
       "  <tbody>\n",
       "  </tbody>\n",
       "</table>\n",
       "<p>0 rows × 50 columns</p>\n",
       "</div>"
      ],
      "text/plain": [
       "Empty DataFrame\n",
       "Columns: [id, member_id, loan_amnt, funded_amnt, funded_amnt_inv, term, int_rate, installment, grade, sub_grade, emp_title, emp_length, home_ownership, annual_inc, verification_status, issue_d, loan_status, desc, purpose, title, zip_code, addr_state, dti, delinq_2yrs, earliest_cr_line, inq_last_6mths, mths_since_last_delinq, open_acc, pub_rec, revol_bal, revol_util, total_acc, initial_list_status, out_prncp, out_prncp_inv, total_pymnt, total_pymnt_inv, total_rec_prncp, total_rec_int, total_rec_late_fee, recoveries, collection_recovery_fee, last_pymnt_d, last_pymnt_amnt, last_credit_pull_d, policy_code, application_type, pub_rec_bankruptcies, issue_m, issue_y]\n",
       "Index: []\n",
       "\n",
       "[0 rows x 50 columns]"
      ]
     },
     "execution_count": 29,
     "metadata": {},
     "output_type": "execute_result"
    }
   ],
   "source": [
    "# Installment should not be greater than loan amount\n",
    "\n",
    "LoanDf[LoanDf[\"installment\"] > LoanDf[\"loan_amnt\"]]\n",
    "\n",
    "# Observation\n",
    "# There are no such records"
   ]
  },
  {
   "cell_type": "code",
   "execution_count": null,
   "id": "1f986554",
   "metadata": {},
   "outputs": [],
   "source": []
  },
  {
   "cell_type": "code",
   "execution_count": null,
   "id": "ed0256d4",
   "metadata": {},
   "outputs": [],
   "source": []
  },
  {
   "cell_type": "markdown",
   "id": "5c80109f",
   "metadata": {},
   "source": [
    "### 5. Univariate Analysis"
   ]
  },
  {
   "cell_type": "code",
   "execution_count": 30,
   "id": "3d5f273e",
   "metadata": {},
   "outputs": [
    {
     "data": {
      "image/png": "[encoded data removed]",
      "text/plain": [
       "<Figure size 432x432 with 1 Axes>"
      ]
     },
     "metadata": {
      "needs_background": "light"
     },
     "output_type": "display_data"
    }
   ],
   "source": [
    "# Determine the percentage of loans that have been charged off\n",
    "\n",
    "plt.title(\"Percentage of Loan Status\")\n",
    "ax = LoanDf[\"loan_status\"].value_counts().plot.bar(figsize=[6,6])\n",
    "for p in ax.patches:\n",
    "    width = p.get_width()\n",
    "    height = p.get_height()\n",
    "    x, y = p.get_xy() \n",
    "    ax.annotate(f'{round(height/len(LoanDf[\"loan_status\"])*100, 2)}%', xy=(x + width/2, y + height*1.02), ha='center')\n",
    "plt.show()\n",
    "\n",
    "# Observation\n",
    "# 14.17% of loans have been charged off"
   ]
  },
  {
   "cell_type": "markdown",
   "id": "78cbbd90",
   "metadata": {},
   "source": [
    "##### Segmented Univariate Analysis"
   ]
  },
  {
   "cell_type": "code",
   "execution_count": 31,
   "id": "3468eecc",
   "metadata": {},
   "outputs": [
    {
     "data": {
      "text/plain": [
       "(5627, 50)"
      ]
     },
     "execution_count": 31,
     "metadata": {},
     "output_type": "execute_result"
    }
   ],
   "source": [
    "# Create a data segment containing only Charged-off loans\n",
    "chargedOffLoanDF = LoanDf[LoanDf[\"loan_status\"]==\"Charged Off\"]\n",
    "chargedOffLoanDF.shape"
   ]
  },
  {
   "cell_type": "code",
   "execution_count": 32,
   "id": "586b45a8",
   "metadata": {},
   "outputs": [
    {
     "data": {
      "image/png": "[encoded data removed]",
      "text/plain": [
       "<Figure size 432x288 with 1 Axes>"
      ]
     },
     "metadata": {
      "needs_background": "light"
     },
     "output_type": "display_data"
    },
    {
     "data": {
      "text/plain": [
       "10000    362\n",
       "12000    303\n",
       "5000     287\n",
       "15000    259\n",
       "25000    252\n",
       "        ... \n",
       "15775      1\n",
       "19475      1\n",
       "4475       1\n",
       "27200      1\n",
       "3175       1\n",
       "Name: loan_amnt, Length: 487, dtype: int64"
      ]
     },
     "execution_count": 32,
     "metadata": {},
     "output_type": "execute_result"
    }
   ],
   "source": [
    "# Distribution of Loan Amount among Charged-off category\n",
    "sns.histplot(chargedOffLoanDF[\"loan_amnt\"])\n",
    "plt.show()\n",
    "\n",
    "chargedOffLoanDF[\"loan_amnt\"].value_counts(ascending=False)\n",
    "\n",
    "# Observation\n",
    "# Most of the charged-off loans are within loan amount 25000\n",
    "# There are spikes for loan amount like 5000, 10000, 12000, 15000 etc as people generally take loan of rounded amount"
   ]
  },
  {
   "cell_type": "code",
   "execution_count": 33,
   "id": "f2033fad",
   "metadata": {},
   "outputs": [
    {
     "data": {
      "image/png": "[encoded data removed]",
      "text/plain": [
       "<Figure size 432x288 with 1 Axes>"
      ]
     },
     "metadata": {
      "needs_background": "light"
     },
     "output_type": "display_data"
    }
   ],
   "source": [
    "# Distribution of term among Charged-off category\n",
    "chargedOffLoanDF[\"term\"].value_counts().plot.bar()\n",
    "plt.show()\n",
    "\n",
    "# Observation\n",
    "# The \"term\" do not have much influence on Charged-off loans"
   ]
  },
  {
   "cell_type": "code",
   "execution_count": 34,
   "id": "ed939571",
   "metadata": {},
   "outputs": [
    {
     "data": {
      "image/png": "[encoded data removed]",
      "text/plain": [
       "<Figure size 864x288 with 2 Axes>"
      ]
     },
     "metadata": {
      "needs_background": "light"
     },
     "output_type": "display_data"
    }
   ],
   "source": [
    "# Distribution of Interest Rate among Charged-off category\n",
    "plt.figure(figsize=[12,4])\n",
    "plt.subplot(1,2,1)\n",
    "sns.histplot(chargedOffLoanDF[\"int_rate\"])\n",
    "\n",
    "plt.subplot(1,2,2)\n",
    "sns.boxplot(data=chargedOffLoanDF, x=\"int_rate\")\n",
    "plt.show()\n",
    "\n",
    "# Observation\n",
    "# Majority of Interest Rate falls between 11% - 17% for an charged-off Loan"
   ]
  },
  {
   "cell_type": "code",
   "execution_count": 35,
   "id": "695c2fc1",
   "metadata": {},
   "outputs": [
    {
     "data": {
      "image/png": "[encoded data removed]",
      "text/plain": [
       "<Figure size 432x288 with 1 Axes>"
      ]
     },
     "metadata": {
      "needs_background": "light"
     },
     "output_type": "display_data"
    }
   ],
   "source": [
    "# Distribution of Grade among Charged-off category\n",
    "chargedOffLoanDF[\"grade\"].value_counts().plot.bar()\n",
    "plt.show()\n",
    "\n",
    "# Observation\n",
    "# customers with grade B, C and D are likely to default"
   ]
  },
  {
   "cell_type": "code",
   "execution_count": 36,
   "id": "aa34c18e",
   "metadata": {},
   "outputs": [
    {
     "data": {
      "image/png": "[encoded data removed]",
      "text/plain": [
       "<Figure size 432x288 with 1 Axes>"
      ]
     },
     "metadata": {
      "needs_background": "light"
     },
     "output_type": "display_data"
    }
   ],
   "source": [
    "# Distribution of Sub-Grade among Charged-off category\n",
    "chargedOffLoanDF[\"sub_grade\"].value_counts().plot.bar()\n",
    "plt.xticks(rotation=90)\n",
    "plt.show()\n",
    "\n",
    "# Observation\n",
    "# customers with sub-grade of B, C and D are likely to default"
   ]
  },
  {
   "cell_type": "code",
   "execution_count": 37,
   "id": "1df17894",
   "metadata": {},
   "outputs": [
    {
     "data": {
      "image/png": "[encoded data removed]",
      "text/plain": [
       "<Figure size 432x288 with 1 Axes>"
      ]
     },
     "metadata": {
      "needs_background": "light"
     },
     "output_type": "display_data"
    }
   ],
   "source": [
    "# Distribution of Home-ownership among Charged-off category\n",
    "chargedOffLoanDF[\"home_ownership\"].value_counts().plot.bar()\n",
    "plt.show()\n",
    "\n",
    "# Observation\n",
    "# People with Rented or Mortgage house are likely to default"
   ]
  },
  {
   "cell_type": "code",
   "execution_count": 38,
   "id": "5282aa0f",
   "metadata": {},
   "outputs": [
    {
     "data": {
      "image/png": "[encoded data removed]",
      "text/plain": [
       "<Figure size 864x288 with 2 Axes>"
      ]
     },
     "metadata": {
      "needs_background": "light"
     },
     "output_type": "display_data"
    },
    {
     "name": "stdout",
     "output_type": "stream",
     "text": [
      "Range of annual income of charged-off people is between -20000.0 - 132000.0\n"
     ]
    }
   ],
   "source": [
    "# Distribution of Annual income among Charged-off category\n",
    "\n",
    "plt.figure(figsize=[12,4])\n",
    "plt.subplot(1,2,1)\n",
    "sns.histplot(chargedOffLoanDF[\"annual_inc\"])\n",
    "\n",
    "plt.subplot(1,2,2)\n",
    "sns.boxplot(data=chargedOffLoanDF, x=\"annual_inc\")\n",
    "plt.show()\n",
    "\n",
    "IQR = chargedOffLoanDF[\"annual_inc\"].quantile(0.75) - chargedOffLoanDF[\"annual_inc\"].quantile(0.25)\n",
    "max = chargedOffLoanDF[\"annual_inc\"].quantile(0.75) + 1.5 * IQR\n",
    "min = chargedOffLoanDF[\"annual_inc\"].quantile(0.25) - 1.5 * IQR\n",
    "\n",
    "print(\"Range of annual income of charged-off people is between {} - {}\".format(min, max))\n",
    "\n",
    "# Observation \n",
    "# Almost all charged_off loans have annual income towards lower limit"
   ]
  },
  {
   "cell_type": "code",
   "execution_count": 39,
   "id": "b1406a9f",
   "metadata": {},
   "outputs": [
    {
     "data": {
      "image/png": "[encoded data removed]",
      "text/plain": [
       "<Figure size 432x288 with 1 Axes>"
      ]
     },
     "metadata": {
      "needs_background": "light"
     },
     "output_type": "display_data"
    }
   ],
   "source": [
    "# Distribution of Verification status among Charged-off category\n",
    "\n",
    "chargedOffLoanDF[\"verification_status\"].value_counts().plot.bar()\n",
    "plt.show()\n",
    "\n",
    "# Observation\n",
    "# This do not have any influence on Charged-off loans"
   ]
  },
  {
   "cell_type": "code",
   "execution_count": 40,
   "id": "4388ba45",
   "metadata": {},
   "outputs": [
    {
     "data": {
      "image/png": "[encoded data removed]",
      "text/plain": [
       "<Figure size 432x288 with 1 Axes>"
      ]
     },
     "metadata": {
      "needs_background": "light"
     },
     "output_type": "display_data"
    }
   ],
   "source": [
    "# Distribution of Purpose among Charged-off category\n",
    "\n",
    "chargedOffLoanDF[\"purpose\"].value_counts().plot.bar()\n",
    "plt.show()\n",
    "\n",
    "# Observation\n",
    "# People taking loan with 'Debt-consolidation' perpose are likely to default"
   ]
  },
  {
   "cell_type": "code",
   "execution_count": 41,
   "id": "a5f3d149",
   "metadata": {},
   "outputs": [
    {
     "data": {
      "image/png": "[encoded data removed]",
      "text/plain": [
       "<Figure size 864x288 with 2 Axes>"
      ]
     },
     "metadata": {
      "needs_background": "light"
     },
     "output_type": "display_data"
    }
   ],
   "source": [
    "# Distribution of dti among Charged-off category\n",
    "\n",
    "plt.figure(figsize=[12,4])\n",
    "plt.subplot(1,2,1)\n",
    "sns.histplot(chargedOffLoanDF[\"dti\"])\n",
    "\n",
    "plt.subplot(1,2,2)\n",
    "sns.boxplot(data=chargedOffLoanDF, x=\"dti\")\n",
    "plt.show()\n",
    "\n",
    "# Observation\n",
    "# people with dti between 10-20 are likely to default"
   ]
  },
  {
   "cell_type": "code",
   "execution_count": 42,
   "id": "9300187a",
   "metadata": {},
   "outputs": [
    {
     "data": {
      "image/png": "[encoded data removed]",
      "text/plain": [
       "<Figure size 864x288 with 1 Axes>"
      ]
     },
     "metadata": {
      "needs_background": "light"
     },
     "output_type": "display_data"
    }
   ],
   "source": [
    "# Distribution of Address State among Charged-off category\n",
    "plt.figure(figsize=[12,4])\n",
    "sns.histplot(chargedOffLoanDF[\"addr_state\"])\n",
    "plt.xticks(rotation=90)\n",
    "plt.show()\n",
    "\n",
    "# Observation\n",
    "# people living in CA are likely to default"
   ]
  },
  {
   "cell_type": "code",
   "execution_count": null,
   "id": "e0716e3b",
   "metadata": {},
   "outputs": [],
   "source": []
  },
  {
   "cell_type": "code",
   "execution_count": null,
   "id": "07a66554",
   "metadata": {},
   "outputs": [],
   "source": []
  },
  {
   "cell_type": "code",
   "execution_count": null,
   "id": "38ca8139",
   "metadata": {},
   "outputs": [],
   "source": []
  },
  {
   "cell_type": "code",
   "execution_count": null,
   "id": "a77d272a",
   "metadata": {},
   "outputs": [],
   "source": []
  }
 ],
 "metadata": {
  "kernelspec": {
   "display_name": "Python 3.10.4 64-bit",
   "language": "python",
   "name": "python3"
  },
  "language_info": {
   "codemirror_mode": {
    "name": "ipython",
    "version": 3
   },
   "file_extension": ".py",
   "mimetype": "text/x-python",
   "name": "python",
   "nbconvert_exporter": "python",
   "pygments_lexer": "ipython3",
   "version": "3.10.4"
  },
  "vscode": {
   "interpreter": {
    "hash": "76acbbe377e62662dcb8a64c04661b80651f195af5a7e44ea3c1776a93f8dd64"
   }
  }
 },
 "nbformat": 4,
 "nbformat_minor": 5
}
